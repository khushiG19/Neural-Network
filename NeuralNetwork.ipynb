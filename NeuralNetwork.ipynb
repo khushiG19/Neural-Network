{
  "cells": [
    {
      "cell_type": "markdown",
      "metadata": {
        "id": "YI-M4LtwRQZn"
      },
      "source": [
        "                                                        NEURAL NETWORK LAB FILE\n",
        "\n",
        "\n",
        "KHUSHI GUPTA\n",
        "\n",
        "500086354\n",
        "\n",
        "R2142201601"
      ]
    },
    {
      "cell_type": "markdown",
      "metadata": {
        "id": "9V2SssE1RRlH"
      },
      "source": [
        "# **EXPERIMENT 1**"
      ]
    },
    {
      "cell_type": "code",
      "execution_count": null,
      "metadata": {
        "id": "qnGlORyLREFF"
      },
      "outputs": [],
      "source": [
        "pip install torch\n",
        "\n",
        "import torch\n",
        "torch.empty(3,3)\n",
        "\n",
        "torch.rand(3,4)\n",
        "\n",
        "x=torch.tensor([1,2,3])\n",
        "torch.is_tensor(x)\n",
        "\n",
        "torch.complex64\n",
        "\n",
        "torch.float64,torch.float32\n",
        "\n",
        "torch.tensor([1.2, 3]).dtype\n",
        "\n",
        "torch.set_default_tensor_type\n",
        "torch.tensor([1.2, 3]).dtype\n",
        "\n",
        "torch.set_flush_denormal(True)\n",
        "torch.tensor([1e-323], dtype=torch.float64)\n",
        "torch.set_flush_denormal(False)\n",
        "torch.tensor([1e-323], dtype=torch.float64)\n",
        "\n",
        "torch.set_printoptions(precision=6)\n",
        "torch.tensor([1.12345])\n",
        "\n",
        "torch.set_printoptions(threshold=5)\n",
        "torch.arange(835)\n",
        "\n",
        "torch.is_nonzero(torch.tensor([0.1]))\n",
        "\n",
        "torch.is_nonzero(torch.tensor([1.5]))\n",
        "\n",
        "torch.is_nonzero(torch.tensor([0.5]))\n",
        "\n",
        "torch.is_nonzero(torch.tensor([3]))\n",
        "\n",
        "torch.is_nonzero(torch.tensor([7]))\n",
        "\n"
      ]
    },
    {
      "cell_type": "markdown",
      "metadata": {
        "id": "PGvr4ooERlCd"
      },
      "source": [
        "**EXPERIMENT 2**"
      ]
    },
    {
      "cell_type": "code",
      "execution_count": null,
      "metadata": {
        "id": "DH3pK9SrLKk-"
      },
      "outputs": [],
      "source": [
        "import torch\n",
        "import sklearn\n",
        "import pandas as pd"
      ]
    },
    {
      "cell_type": "code",
      "execution_count": null,
      "metadata": {
        "colab": {
          "base_uri": "https://localhost:8080/"
        },
        "id": "p83Pe-ZsL42I",
        "outputId": "58a0cde8-0c8a-4c4a-ef4e-516d746d301a"
      },
      "outputs": [
        {
          "data": {
            "text/plain": [
              "<torch._C.Generator at 0x7f3832475c70>"
            ]
          },
          "execution_count": 5,
          "metadata": {},
          "output_type": "execute_result"
        }
      ],
      "source": [
        "from sklearn.datasets import make_classification\n",
        "torch.manual_seed(123)"
      ]
    },
    {
      "cell_type": "code",
      "execution_count": null,
      "metadata": {
        "id": "yZmwQ4NXL_32"
      },
      "outputs": [],
      "source": [
        "## Make a Toy Dataset\n",
        "X,y=make_classification(n_samples=5000,n_features=4 ,n_classes=2)\n",
        "### Change it into the Tensor\n",
        "X=torch.tensor(X,dtype=torch.float32)\n",
        "y=torch.tensor(y,dtype=torch.float32)"
      ]
    },
    {
      "cell_type": "code",
      "execution_count": null,
      "metadata": {
        "colab": {
          "base_uri": "https://localhost:8080/"
        },
        "id": "h1AYTdnZMDqK",
        "outputId": "78bab86a-72c2-4ec8-b6a7-9199058888ed"
      },
      "outputs": [
        {
          "data": {
            "text/plain": [
              "tensor([1937, 1091, 4598, 2882, 2376, 4345, 2133, 1355, 2529,  571])"
            ]
          },
          "execution_count": 7,
          "metadata": {},
          "output_type": "execute_result"
        }
      ],
      "source": [
        "### Data Suffling\n",
        "torch.manual_seed(10)\n",
        "suffle_idx=torch.randperm(y.size(0),dtype=torch.long)\n",
        "X,y=X[suffle_idx],y[suffle_idx]\n",
        "suffle_idx[:10]"
      ]
    },
    {
      "cell_type": "code",
      "execution_count": null,
      "metadata": {
        "id": "jPbpE5O4MJBy"
      },
      "outputs": [],
      "source": [
        "#### Train Test split\n",
        "train_size=int(suffle_idx.size(0)*0.7)\n",
        "train_idx= suffle_idx[:train_size]\n",
        "test_idx=suffle_idx[train_size:]\n",
        "X_train,y_train=X[train_idx],y[train_idx]\n",
        "X_test,y_test=X[test_idx],y[test_idx]"
      ]
    },
    {
      "cell_type": "code",
      "execution_count": null,
      "metadata": {
        "colab": {
          "base_uri": "https://localhost:8080/"
        },
        "id": "o2s9_eRfMKi3",
        "outputId": "246a7470-4bc0-4b7d-85b0-f462c02ed2e3"
      },
      "outputs": [
        {
          "data": {
            "text/plain": [
              "torch.Size([3500, 4])"
            ]
          },
          "execution_count": 9,
          "metadata": {},
          "output_type": "execute_result"
        }
      ],
      "source": [
        "X_train.shape"
      ]
    },
    {
      "cell_type": "code",
      "execution_count": null,
      "metadata": {
        "id": "2sQrdI40MSPj"
      },
      "outputs": [],
      "source": [
        "#### Normalize\n",
        "mean,std_dev=X_train.mean(dim=0) ,X_train.std(dim=0)\n",
        "X_train=(X_train-mean)/std_dev\n",
        "X_test=(X_test-mean)/std_dev"
      ]
    },
    {
      "cell_type": "code",
      "execution_count": null,
      "metadata": {
        "id": "Bxrsf_ajMYg3"
      },
      "outputs": [],
      "source": [
        "import torch.nn as nn\n",
        "from torch.autograd import grad"
      ]
    },
    {
      "cell_type": "code",
      "execution_count": null,
      "metadata": {
        "id": "ib2xazG0MbwH"
      },
      "outputs": [],
      "source": [
        "class NN():\n",
        "    def __init__(self,n_features):\n",
        "        self.n_features=n_features\n",
        "        self.weight=torch.zeros(size=(n_features,1),dtype=torch.float,requires_grad=True)\n",
        "        self.bias=torch.zeros(1,dtype=torch.float,requires_grad=True)\n",
        "    def forward(self,x):\n",
        "        output=torch.add(torch.mm(x,self.weight),self.bias)\n",
        "        return output.view(-1)\n",
        "def loss_fn(yhat,y):\n",
        "    return torch.mean((yhat-y)**2)"
      ]
    },
    {
      "cell_type": "code",
      "execution_count": null,
      "metadata": {
        "id": "qzS674BmMisy"
      },
      "outputs": [],
      "source": [
        "def train(model,x,y,n_epoch=10,lr=0.001,seed=23,bsz=50):\n",
        "    cost=[]\n",
        "    torch.manual_seed(seed)\n",
        "    for i in range(n_epoch):\n",
        "        suffle_idx=torch.randperm(y.size(0))\n",
        "        batches=torch.split(suffle_idx,bsz)\n",
        "        for idx in batches:\n",
        "            ###1. Compute the output\n",
        "            yhat=model.forward(x[idx])\n",
        "            ###2. Compute the Error\n",
        "            loss=loss_fn(yhat,y[idx])\n",
        "            ###3. Compute the gradient\n",
        "            grad_w=grad(loss,model.weight,retain_graph=True)[0]\n",
        "            grad_b=grad(loss,model.bias)[0]\n",
        "            ###4. Update Model Parameters\n",
        "            model.weight=model.weight-lr*grad_w\n",
        "            model.bias=model.bias-lr*grad_b\n",
        "            ###5. Log and print the loss\n",
        "        with torch.no_grad():\n",
        "            yhat=model.forward(x)\n",
        "            curr_loss=loss_fn(yhat,y)\n",
        "            print('Epoc: %3d ' % (i+1),end=\"\")\n",
        "            print('| MSE % .5f' % curr_loss)\n",
        "            cost.append(curr_loss)\n",
        "    return cost"
      ]
    },
    {
      "cell_type": "code",
      "execution_count": null,
      "metadata": {
        "colab": {
          "base_uri": "https://localhost:8080/"
        },
        "id": "esyKJq6TMmOe",
        "outputId": "a6d2f95a-69fd-44cd-e824-5f64c9630a79"
      },
      "outputs": [
        {
          "name": "stdout",
          "output_type": "stream",
          "text": [
            "Epoc:   1 | MSE  0.40382\n",
            "Epoc:   2 | MSE  0.32921\n",
            "Epoc:   3 | MSE  0.27447\n",
            "Epoc:   4 | MSE  0.23392\n",
            "Epoc:   5 | MSE  0.20372\n",
            "Epoc:   6 | MSE  0.18111\n",
            "Epoc:   7 | MSE  0.16415\n",
            "Epoc:   8 | MSE  0.15141\n",
            "Epoc:   9 | MSE  0.14180\n",
            "Epoc:  10 | MSE  0.13459\n",
            "Epoc:  11 | MSE  0.12916\n",
            "Epoc:  12 | MSE  0.12509\n",
            "Epoc:  13 | MSE  0.12202\n",
            "Epoc:  14 | MSE  0.11971\n",
            "Epoc:  15 | MSE  0.11796\n",
            "Epoc:  16 | MSE  0.11665\n",
            "Epoc:  17 | MSE  0.11566\n",
            "Epoc:  18 | MSE  0.11492\n",
            "Epoc:  19 | MSE  0.11437\n",
            "Epoc:  20 | MSE  0.11395\n",
            "Epoc:  21 | MSE  0.11363\n",
            "Epoc:  22 | MSE  0.11339\n",
            "Epoc:  23 | MSE  0.11322\n",
            "Epoc:  24 | MSE  0.11308\n",
            "Epoc:  25 | MSE  0.11298\n",
            "Epoc:  26 | MSE  0.11290\n",
            "Epoc:  27 | MSE  0.11285\n",
            "Epoc:  28 | MSE  0.11280\n",
            "Epoc:  29 | MSE  0.11277\n",
            "Epoc:  30 | MSE  0.11275\n",
            "Epoc:  31 | MSE  0.11273\n",
            "Epoc:  32 | MSE  0.11271\n",
            "Epoc:  33 | MSE  0.11270\n",
            "Epoc:  34 | MSE  0.11270\n",
            "Epoc:  35 | MSE  0.11269\n",
            "Epoc:  36 | MSE  0.11268\n",
            "Epoc:  37 | MSE  0.11268\n",
            "Epoc:  38 | MSE  0.11268\n",
            "Epoc:  39 | MSE  0.11268\n",
            "Epoc:  40 | MSE  0.11268\n",
            "Epoc:  41 | MSE  0.11267\n",
            "Epoc:  42 | MSE  0.11267\n",
            "Epoc:  43 | MSE  0.11267\n",
            "Epoc:  44 | MSE  0.11267\n",
            "Epoc:  45 | MSE  0.11267\n",
            "Epoc:  46 | MSE  0.11267\n",
            "Epoc:  47 | MSE  0.11267\n",
            "Epoc:  48 | MSE  0.11267\n",
            "Epoc:  49 | MSE  0.11267\n",
            "Epoc:  50 | MSE  0.11267\n"
          ]
        }
      ],
      "source": [
        "model=NN(X_train.size(1))\n",
        "cost=train(model,X_train,y_train,n_epoch=50)"
      ]
    },
    {
      "cell_type": "code",
      "execution_count": null,
      "metadata": {
        "colab": {
          "base_uri": "https://localhost:8080/",
          "height": 279
        },
        "id": "p23cSzVKMq2s",
        "outputId": "e5823972-54af-4678-a741-016556f36cfd"
      },
      "outputs": [
        {
          "data": {
            "image/png": "[encoded data removed]",
            "text/plain": [
              "<Figure size 432x288 with 1 Axes>"
            ]
          },
          "metadata": {},
          "output_type": "display_data"
        }
      ],
      "source": [
        "import matplotlib.pyplot as plt\n",
        "plt.plot(range(len(cost)),cost)\n",
        "plt.ylabel('Mean Sqare Error')\n",
        "plt.xlabel('Epoc')\n",
        "plt.show()"
      ]
    },
    {
      "cell_type": "code",
      "execution_count": null,
      "metadata": {
        "colab": {
          "base_uri": "https://localhost:8080/"
        },
        "id": "IFz1rc6IMyBP",
        "outputId": "5ff70d40-b06b-4924-f96e-8dfa2ba20362"
      },
      "outputs": [
        {
          "name": "stdout",
          "output_type": "stream",
          "text": [
            "Training Accuracy: 86.89\n",
            "Testing Accuracy: 86.47\n"
          ]
        }
      ],
      "source": [
        "ones=torch.ones(y_train.size())\n",
        "zero=torch.zeros(y_train.size())\n",
        "train_pred=model.forward(X_train)\n",
        "train_acc=torch.mean((  \n",
        "    torch.where(train_pred > 0.5,\n",
        "                ones,zero).int()==y_train).float())\n",
        "ones=torch.ones(y_test.size())\n",
        "zeros=torch.zeros(y_test.size())\n",
        "test_pred=model.forward(X_test)\n",
        "test_acc=torch.mean((torch.where(test_pred> 0.5,ones,zeros).int()==y_test).float())\n",
        "print('Training Accuracy: %.2f' % (train_acc*100))\n",
        "print('Testing Accuracy: %.2f' % (test_acc*100))"
      ]
    },
    {
      "cell_type": "code",
      "execution_count": null,
      "metadata": {
        "id": "9Clta39GM1KA"
      },
      "outputs": [],
      "source": [
        "import torch\n",
        "import sklearn\n",
        "import torch.nn.functional as F"
      ]
    },
    {
      "cell_type": "code",
      "execution_count": null,
      "metadata": {
        "id": "GMaNmL3DM5Kw"
      },
      "outputs": [],
      "source": [
        "from sklearn.datasets import make_classification\n",
        "from sklearn.model_selection import train_test_split\n",
        "from sklearn.preprocessing import StandardScaler"
      ]
    },
    {
      "cell_type": "code",
      "execution_count": null,
      "metadata": {
        "id": "y--8rIS5M8I4"
      },
      "outputs": [],
      "source": [
        "### Create The dataset\n",
        "X,y=make_classification(n_samples=1000,n_classes=2,n_features=4)\n",
        "\n",
        "### Normalize the Data\n",
        "scaler=StandardScaler()\n",
        "X=scaler.fit_transform(X)\n",
        "\n",
        "### Array to Tensor\n",
        "X=torch.tensor(X,dtype=torch.float32)\n",
        "y=torch.tensor(y,dtype=torch.float32)"
      ]
    },
    {
      "cell_type": "code",
      "execution_count": null,
      "metadata": {
        "colab": {
          "base_uri": "https://localhost:8080/"
        },
        "id": "q_pXqTXvM_Wp",
        "outputId": "97be9bc4-7a73-4488-bd09-0bf1cc3859cb"
      },
      "outputs": [
        {
          "name": "stdout",
          "output_type": "stream",
          "text": [
            "torch.Size([700, 4])\n",
            "torch.Size([300, 4])\n"
          ]
        }
      ],
      "source": [
        "X_train,X_test,y_train,y_test=train_test_split(X,y,test_size=.3,random_state=21)\n",
        "print(X_train.shape)\n",
        "print(X_test.shape)"
      ]
    },
    {
      "cell_type": "code",
      "execution_count": null,
      "metadata": {
        "id": "18alaYFLNCUV"
      },
      "outputs": [],
      "source": [
        "class NNpt(nn.Module):\n",
        "    def __init__(self,n_features):\n",
        "        super(NNpt,self).__init__()\n",
        "        self.linear=nn.Linear(n_features,1)\n",
        "\n",
        "        self.linear.weight.detach().zero_()\n",
        "        self.linear.bias.detach().zero_()\n",
        "\n",
        "\n",
        "    def forward(self,x):\n",
        "        out=self.linear(x)\n",
        "        return out.view(-1)"
      ]
    },
    {
      "cell_type": "code",
      "execution_count": null,
      "metadata": {
        "id": "jQv6glYSNKNL"
      },
      "outputs": [],
      "source": [
        "def train(model,x,y,n_epoch=10,lr=0.001,seed=23,bsz=50):\n",
        "    cost=[]\n",
        "    torch.manual_seed(seed)\n",
        "    ### Optimizer\n",
        "    optimizer=torch.optim.SGD(model.parameters(),lr=lr)\n",
        "    for i in range(n_epoch):\n",
        "        suffle_idx=torch.randperm(y.size(0))\n",
        "        batches=torch.split(suffle_idx,bsz)\n",
        "        for idx in batches:\n",
        "            ###1. Compute the Output\n",
        "            yhat=model.forward(x[idx])\n",
        "            ###2. Compute the Loss\n",
        "            loss=torch.nn.functional.mse_loss(yhat,y[idx])\n",
        "            ###3. Compute the Gradients\n",
        "            optimizer.zero_grad()\n",
        "            loss.backward()\n",
        "            ###4. Update the Model Parameters\n",
        "            optimizer.step()\n",
        "            #model.weight=model.weight-lr*grad_w\n",
        "            #model.bias=model.bias-lr*grad_b\n",
        "            ###5. Log and print the Loss\n",
        "            with torch.no_grad():\n",
        "                yhat=model.forward(x)\n",
        "                curr_loss=loss_fn(yhat,y)\n",
        "                print('Epoc: %3d ' % (i+1),end=\"\")\n",
        "                print('| MSE % .5f' % curr_loss)\n",
        "                cost.append(curr_loss)\n",
        "    return cost"
      ]
    },
    {
      "cell_type": "code",
      "execution_count": null,
      "metadata": {
        "id": "SEjjmxG0NNWj"
      },
      "outputs": [],
      "source": [
        "n_feature=X_train.size(1)\n",
        "model=NNpt(n_features=n_feature)"
      ]
    },
    {
      "cell_type": "code",
      "execution_count": null,
      "metadata": {
        "colab": {
          "base_uri": "https://localhost:8080/"
        },
        "id": "zGMOZGWVNQBv",
        "outputId": "73d70b82-701b-4cd7-8c3f-8ad83ab5b5d6"
      },
      "outputs": [
        {
          "name": "stdout",
          "output_type": "stream",
          "text": [
            "Epoc:   1 | MSE  0.51000\n",
            "Epoc:   1 | MSE  0.50792\n",
            "Epoc:   1 | MSE  0.50531\n",
            "Epoc:   1 | MSE  0.50322\n",
            "Epoc:   1 | MSE  0.50116\n",
            "Epoc:   1 | MSE  0.49924\n",
            "Epoc:   1 | MSE  0.49685\n",
            "Epoc:   1 | MSE  0.49473\n",
            "Epoc:   1 | MSE  0.49207\n",
            "Epoc:   1 | MSE  0.48998\n",
            "Epoc:   1 | MSE  0.48778\n",
            "Epoc:   1 | MSE  0.48548\n",
            "Epoc:   1 | MSE  0.48407\n",
            "Epoc:   1 | MSE  0.48216\n",
            "Epoc:   2 | MSE  0.48016\n",
            "Epoc:   2 | MSE  0.47777\n",
            "Epoc:   2 | MSE  0.47603\n",
            "Epoc:   2 | MSE  0.47434\n",
            "Epoc:   2 | MSE  0.47246\n",
            "Epoc:   2 | MSE  0.47035\n",
            "Epoc:   2 | MSE  0.46842\n",
            "Epoc:   2 | MSE  0.46625\n",
            "Epoc:   2 | MSE  0.46457\n",
            "Epoc:   2 | MSE  0.46238\n",
            "Epoc:   2 | MSE  0.46072\n",
            "Epoc:   2 | MSE  0.45879\n",
            "Epoc:   2 | MSE  0.45726\n",
            "Epoc:   2 | MSE  0.45528\n",
            "Epoc:   3 | MSE  0.45347\n",
            "Epoc:   3 | MSE  0.45182\n",
            "Epoc:   3 | MSE  0.45005\n",
            "Epoc:   3 | MSE  0.44765\n",
            "Epoc:   3 | MSE  0.44547\n",
            "Epoc:   3 | MSE  0.44377\n",
            "Epoc:   3 | MSE  0.44284\n",
            "Epoc:   3 | MSE  0.44099\n",
            "Epoc:   3 | MSE  0.43968\n",
            "Epoc:   3 | MSE  0.43799\n",
            "Epoc:   3 | MSE  0.43608\n",
            "Epoc:   3 | MSE  0.43424\n",
            "Epoc:   3 | MSE  0.43256\n",
            "Epoc:   3 | MSE  0.43054\n",
            "Epoc:   4 | MSE  0.42893\n",
            "Epoc:   4 | MSE  0.42706\n",
            "Epoc:   4 | MSE  0.42522\n",
            "Epoc:   4 | MSE  0.42393\n",
            "Epoc:   4 | MSE  0.42233\n",
            "Epoc:   4 | MSE  0.42034\n",
            "Epoc:   4 | MSE  0.41886\n",
            "Epoc:   4 | MSE  0.41729\n",
            "Epoc:   4 | MSE  0.41543\n",
            "Epoc:   4 | MSE  0.41388\n",
            "Epoc:   4 | MSE  0.41248\n",
            "Epoc:   4 | MSE  0.41102\n",
            "Epoc:   4 | MSE  0.40922\n",
            "Epoc:   4 | MSE  0.40773\n",
            "Epoc:   5 | MSE  0.40659\n",
            "Epoc:   5 | MSE  0.40537\n",
            "Epoc:   5 | MSE  0.40357\n",
            "Epoc:   5 | MSE  0.40182\n",
            "Epoc:   5 | MSE  0.40032\n",
            "Epoc:   5 | MSE  0.39878\n",
            "Epoc:   5 | MSE  0.39729\n",
            "Epoc:   5 | MSE  0.39573\n",
            "Epoc:   5 | MSE  0.39443\n",
            "Epoc:   5 | MSE  0.39304\n",
            "Epoc:   5 | MSE  0.39136\n",
            "Epoc:   5 | MSE  0.38977\n",
            "Epoc:   5 | MSE  0.38852\n",
            "Epoc:   5 | MSE  0.38669\n",
            "Epoc:   6 | MSE  0.38463\n",
            "Epoc:   6 | MSE  0.38324\n",
            "Epoc:   6 | MSE  0.38188\n",
            "Epoc:   6 | MSE  0.38058\n",
            "Epoc:   6 | MSE  0.37916\n",
            "Epoc:   6 | MSE  0.37781\n",
            "Epoc:   6 | MSE  0.37621\n",
            "Epoc:   6 | MSE  0.37461\n",
            "Epoc:   6 | MSE  0.37348\n",
            "Epoc:   6 | MSE  0.37238\n",
            "Epoc:   6 | MSE  0.37156\n",
            "Epoc:   6 | MSE  0.37007\n",
            "Epoc:   6 | MSE  0.36867\n",
            "Epoc:   6 | MSE  0.36726\n",
            "Epoc:   7 | MSE  0.36564\n",
            "Epoc:   7 | MSE  0.36398\n",
            "Epoc:   7 | MSE  0.36260\n",
            "Epoc:   7 | MSE  0.36109\n",
            "Epoc:   7 | MSE  0.35977\n",
            "Epoc:   7 | MSE  0.35845\n",
            "Epoc:   7 | MSE  0.35755\n",
            "Epoc:   7 | MSE  0.35637\n",
            "Epoc:   7 | MSE  0.35521\n",
            "Epoc:   7 | MSE  0.35395\n",
            "Epoc:   7 | MSE  0.35280\n",
            "Epoc:   7 | MSE  0.35147\n",
            "Epoc:   7 | MSE  0.35059\n",
            "Epoc:   7 | MSE  0.34926\n",
            "Epoc:   8 | MSE  0.34779\n",
            "Epoc:   8 | MSE  0.34645\n",
            "Epoc:   8 | MSE  0.34535\n",
            "Epoc:   8 | MSE  0.34402\n",
            "Epoc:   8 | MSE  0.34314\n",
            "Epoc:   8 | MSE  0.34180\n",
            "Epoc:   8 | MSE  0.34064\n",
            "Epoc:   8 | MSE  0.33932\n",
            "Epoc:   8 | MSE  0.33832\n",
            "Epoc:   8 | MSE  0.33702\n",
            "Epoc:   8 | MSE  0.33578\n",
            "Epoc:   8 | MSE  0.33477\n",
            "Epoc:   8 | MSE  0.33371\n",
            "Epoc:   8 | MSE  0.33259\n",
            "Epoc:   9 | MSE  0.33162\n",
            "Epoc:   9 | MSE  0.33043\n",
            "Epoc:   9 | MSE  0.32953\n",
            "Epoc:   9 | MSE  0.32840\n",
            "Epoc:   9 | MSE  0.32722\n",
            "Epoc:   9 | MSE  0.32608\n",
            "Epoc:   9 | MSE  0.32533\n",
            "Epoc:   9 | MSE  0.32423\n",
            "Epoc:   9 | MSE  0.32332\n",
            "Epoc:   9 | MSE  0.32212\n",
            "Epoc:   9 | MSE  0.32093\n",
            "Epoc:   9 | MSE  0.31961\n",
            "Epoc:   9 | MSE  0.31840\n",
            "Epoc:   9 | MSE  0.31711\n",
            "Epoc:  10 | MSE  0.31589\n",
            "Epoc:  10 | MSE  0.31487\n",
            "Epoc:  10 | MSE  0.31380\n",
            "Epoc:  10 | MSE  0.31267\n",
            "Epoc:  10 | MSE  0.31166\n",
            "Epoc:  10 | MSE  0.31067\n",
            "Epoc:  10 | MSE  0.30950\n",
            "Epoc:  10 | MSE  0.30858\n",
            "Epoc:  10 | MSE  0.30772\n",
            "Epoc:  10 | MSE  0.30694\n",
            "Epoc:  10 | MSE  0.30596\n",
            "Epoc:  10 | MSE  0.30504\n",
            "Epoc:  10 | MSE  0.30401\n",
            "Epoc:  10 | MSE  0.30274\n",
            "Epoc:  11 | MSE  0.30163\n",
            "Epoc:  11 | MSE  0.30076\n",
            "Epoc:  11 | MSE  0.29955\n",
            "Epoc:  11 | MSE  0.29861\n",
            "Epoc:  11 | MSE  0.29745\n",
            "Epoc:  11 | MSE  0.29654\n",
            "Epoc:  11 | MSE  0.29565\n",
            "Epoc:  11 | MSE  0.29475\n",
            "Epoc:  11 | MSE  0.29380\n",
            "Epoc:  11 | MSE  0.29287\n",
            "Epoc:  11 | MSE  0.29201\n",
            "Epoc:  11 | MSE  0.29121\n",
            "Epoc:  11 | MSE  0.29017\n",
            "Epoc:  11 | MSE  0.28938\n",
            "Epoc:  12 | MSE  0.28855\n",
            "Epoc:  12 | MSE  0.28753\n",
            "Epoc:  12 | MSE  0.28666\n",
            "Epoc:  12 | MSE  0.28576\n",
            "Epoc:  12 | MSE  0.28470\n",
            "Epoc:  12 | MSE  0.28388\n",
            "Epoc:  12 | MSE  0.28315\n",
            "Epoc:  12 | MSE  0.28218\n",
            "Epoc:  12 | MSE  0.28131\n",
            "Epoc:  12 | MSE  0.28026\n",
            "Epoc:  12 | MSE  0.27934\n",
            "Epoc:  12 | MSE  0.27862\n",
            "Epoc:  12 | MSE  0.27778\n",
            "Epoc:  12 | MSE  0.27693\n",
            "Epoc:  13 | MSE  0.27593\n",
            "Epoc:  13 | MSE  0.27490\n",
            "Epoc:  13 | MSE  0.27418\n",
            "Epoc:  13 | MSE  0.27365\n",
            "Epoc:  13 | MSE  0.27269\n",
            "Epoc:  13 | MSE  0.27170\n",
            "Epoc:  13 | MSE  0.27088\n",
            "Epoc:  13 | MSE  0.27003\n",
            "Epoc:  13 | MSE  0.26910\n",
            "Epoc:  13 | MSE  0.26859\n",
            "Epoc:  13 | MSE  0.26760\n",
            "Epoc:  13 | MSE  0.26689\n",
            "Epoc:  13 | MSE  0.26597\n",
            "Epoc:  13 | MSE  0.26535\n",
            "Epoc:  14 | MSE  0.26453\n",
            "Epoc:  14 | MSE  0.26350\n",
            "Epoc:  14 | MSE  0.26275\n",
            "Epoc:  14 | MSE  0.26193\n",
            "Epoc:  14 | MSE  0.26127\n",
            "Epoc:  14 | MSE  0.26068\n",
            "Epoc:  14 | MSE  0.25994\n",
            "Epoc:  14 | MSE  0.25935\n",
            "Epoc:  14 | MSE  0.25855\n",
            "Epoc:  14 | MSE  0.25780\n",
            "Epoc:  14 | MSE  0.25705\n",
            "Epoc:  14 | MSE  0.25625\n",
            "Epoc:  14 | MSE  0.25535\n",
            "Epoc:  14 | MSE  0.25454\n",
            "Epoc:  15 | MSE  0.25391\n",
            "Epoc:  15 | MSE  0.25328\n",
            "Epoc:  15 | MSE  0.25243\n",
            "Epoc:  15 | MSE  0.25177\n",
            "Epoc:  15 | MSE  0.25087\n",
            "Epoc:  15 | MSE  0.25041\n",
            "Epoc:  15 | MSE  0.24961\n",
            "Epoc:  15 | MSE  0.24905\n",
            "Epoc:  15 | MSE  0.24825\n",
            "Epoc:  15 | MSE  0.24741\n",
            "Epoc:  15 | MSE  0.24653\n",
            "Epoc:  15 | MSE  0.24586\n",
            "Epoc:  15 | MSE  0.24516\n",
            "Epoc:  15 | MSE  0.24445\n",
            "Epoc:  16 | MSE  0.24367\n",
            "Epoc:  16 | MSE  0.24276\n",
            "Epoc:  16 | MSE  0.24204\n",
            "Epoc:  16 | MSE  0.24129\n",
            "Epoc:  16 | MSE  0.24057\n",
            "Epoc:  16 | MSE  0.24011\n",
            "Epoc:  16 | MSE  0.23947\n",
            "Epoc:  16 | MSE  0.23887\n",
            "Epoc:  16 | MSE  0.23825\n",
            "Epoc:  16 | MSE  0.23770\n",
            "Epoc:  16 | MSE  0.23682\n",
            "Epoc:  16 | MSE  0.23637\n",
            "Epoc:  16 | MSE  0.23566\n",
            "Epoc:  16 | MSE  0.23502\n",
            "Epoc:  17 | MSE  0.23447\n",
            "Epoc:  17 | MSE  0.23371\n",
            "Epoc:  17 | MSE  0.23313\n",
            "Epoc:  17 | MSE  0.23253\n",
            "Epoc:  17 | MSE  0.23172\n",
            "Epoc:  17 | MSE  0.23113\n",
            "Epoc:  17 | MSE  0.23049\n",
            "Epoc:  17 | MSE  0.23002\n",
            "Epoc:  17 | MSE  0.22941\n",
            "Epoc:  17 | MSE  0.22878\n",
            "Epoc:  17 | MSE  0.22809\n",
            "Epoc:  17 | MSE  0.22740\n",
            "Epoc:  17 | MSE  0.22690\n",
            "Epoc:  17 | MSE  0.22621\n",
            "Epoc:  18 | MSE  0.22578\n",
            "Epoc:  18 | MSE  0.22531\n",
            "Epoc:  18 | MSE  0.22475\n",
            "Epoc:  18 | MSE  0.22408\n",
            "Epoc:  18 | MSE  0.22342\n",
            "Epoc:  18 | MSE  0.22271\n",
            "Epoc:  18 | MSE  0.22193\n",
            "Epoc:  18 | MSE  0.22131\n",
            "Epoc:  18 | MSE  0.22078\n",
            "Epoc:  18 | MSE  0.22019\n",
            "Epoc:  18 | MSE  0.21960\n",
            "Epoc:  18 | MSE  0.21907\n",
            "Epoc:  18 | MSE  0.21846\n",
            "Epoc:  18 | MSE  0.21798\n",
            "Epoc:  19 | MSE  0.21745\n",
            "Epoc:  19 | MSE  0.21693\n",
            "Epoc:  19 | MSE  0.21648\n",
            "Epoc:  19 | MSE  0.21597\n",
            "Epoc:  19 | MSE  0.21532\n",
            "Epoc:  19 | MSE  0.21485\n",
            "Epoc:  19 | MSE  0.21416\n",
            "Epoc:  19 | MSE  0.21363\n",
            "Epoc:  19 | MSE  0.21292\n",
            "Epoc:  19 | MSE  0.21232\n",
            "Epoc:  19 | MSE  0.21172\n",
            "Epoc:  19 | MSE  0.21116\n",
            "Epoc:  19 | MSE  0.21079\n",
            "Epoc:  19 | MSE  0.21027\n",
            "Epoc:  20 | MSE  0.20981\n",
            "Epoc:  20 | MSE  0.20918\n",
            "Epoc:  20 | MSE  0.20869\n",
            "Epoc:  20 | MSE  0.20816\n",
            "Epoc:  20 | MSE  0.20766\n",
            "Epoc:  20 | MSE  0.20715\n",
            "Epoc:  20 | MSE  0.20677\n",
            "Epoc:  20 | MSE  0.20615\n",
            "Epoc:  20 | MSE  0.20561\n",
            "Epoc:  20 | MSE  0.20513\n",
            "Epoc:  20 | MSE  0.20467\n",
            "Epoc:  20 | MSE  0.20417\n",
            "Epoc:  20 | MSE  0.20365\n",
            "Epoc:  20 | MSE  0.20305\n",
            "Epoc:  21 | MSE  0.20264\n",
            "Epoc:  21 | MSE  0.20218\n",
            "Epoc:  21 | MSE  0.20175\n",
            "Epoc:  21 | MSE  0.20131\n",
            "Epoc:  21 | MSE  0.20088\n",
            "Epoc:  21 | MSE  0.20035\n",
            "Epoc:  21 | MSE  0.19997\n",
            "Epoc:  21 | MSE  0.19942\n",
            "Epoc:  21 | MSE  0.19891\n",
            "Epoc:  21 | MSE  0.19846\n",
            "Epoc:  21 | MSE  0.19798\n",
            "Epoc:  21 | MSE  0.19744\n",
            "Epoc:  21 | MSE  0.19677\n",
            "Epoc:  21 | MSE  0.19628\n",
            "Epoc:  22 | MSE  0.19577\n",
            "Epoc:  22 | MSE  0.19529\n",
            "Epoc:  22 | MSE  0.19485\n",
            "Epoc:  22 | MSE  0.19422\n",
            "Epoc:  22 | MSE  0.19388\n",
            "Epoc:  22 | MSE  0.19350\n",
            "Epoc:  22 | MSE  0.19302\n",
            "Epoc:  22 | MSE  0.19257\n",
            "Epoc:  22 | MSE  0.19213\n",
            "Epoc:  22 | MSE  0.19163\n",
            "Epoc:  22 | MSE  0.19122\n",
            "Epoc:  22 | MSE  0.19072\n",
            "Epoc:  22 | MSE  0.19032\n",
            "Epoc:  22 | MSE  0.18994\n",
            "Epoc:  23 | MSE  0.18953\n",
            "Epoc:  23 | MSE  0.18903\n",
            "Epoc:  23 | MSE  0.18859\n",
            "Epoc:  23 | MSE  0.18814\n",
            "Epoc:  23 | MSE  0.18772\n",
            "Epoc:  23 | MSE  0.18741\n",
            "Epoc:  23 | MSE  0.18691\n",
            "Epoc:  23 | MSE  0.18646\n",
            "Epoc:  23 | MSE  0.18605\n",
            "Epoc:  23 | MSE  0.18565\n",
            "Epoc:  23 | MSE  0.18529\n",
            "Epoc:  23 | MSE  0.18483\n",
            "Epoc:  23 | MSE  0.18432\n",
            "Epoc:  23 | MSE  0.18400\n",
            "Epoc:  24 | MSE  0.18356\n",
            "Epoc:  24 | MSE  0.18308\n",
            "Epoc:  24 | MSE  0.18260\n",
            "Epoc:  24 | MSE  0.18224\n",
            "Epoc:  24 | MSE  0.18184\n",
            "Epoc:  24 | MSE  0.18143\n",
            "Epoc:  24 | MSE  0.18107\n",
            "Epoc:  24 | MSE  0.18065\n",
            "Epoc:  24 | MSE  0.18035\n",
            "Epoc:  24 | MSE  0.18000\n",
            "Epoc:  24 | MSE  0.17964\n",
            "Epoc:  24 | MSE  0.17927\n",
            "Epoc:  24 | MSE  0.17887\n",
            "Epoc:  24 | MSE  0.17843\n",
            "Epoc:  25 | MSE  0.17812\n",
            "Epoc:  25 | MSE  0.17779\n",
            "Epoc:  25 | MSE  0.17740\n",
            "Epoc:  25 | MSE  0.17707\n",
            "Epoc:  25 | MSE  0.17675\n",
            "Epoc:  25 | MSE  0.17619\n",
            "Epoc:  25 | MSE  0.17573\n",
            "Epoc:  25 | MSE  0.17535\n",
            "Epoc:  25 | MSE  0.17499\n",
            "Epoc:  25 | MSE  0.17469\n",
            "Epoc:  25 | MSE  0.17433\n",
            "Epoc:  25 | MSE  0.17392\n",
            "Epoc:  25 | MSE  0.17355\n",
            "Epoc:  25 | MSE  0.17319\n",
            "Epoc:  26 | MSE  0.17290\n",
            "Epoc:  26 | MSE  0.17257\n",
            "Epoc:  26 | MSE  0.17216\n",
            "Epoc:  26 | MSE  0.17173\n",
            "Epoc:  26 | MSE  0.17137\n",
            "Epoc:  26 | MSE  0.17104\n",
            "Epoc:  26 | MSE  0.17062\n",
            "Epoc:  26 | MSE  0.17031\n",
            "Epoc:  26 | MSE  0.16990\n",
            "Epoc:  26 | MSE  0.16953\n",
            "Epoc:  26 | MSE  0.16920\n",
            "Epoc:  26 | MSE  0.16885\n",
            "Epoc:  26 | MSE  0.16859\n",
            "Epoc:  26 | MSE  0.16828\n",
            "Epoc:  27 | MSE  0.16796\n",
            "Epoc:  27 | MSE  0.16787\n",
            "Epoc:  27 | MSE  0.16748\n",
            "Epoc:  27 | MSE  0.16708\n",
            "Epoc:  27 | MSE  0.16675\n",
            "Epoc:  27 | MSE  0.16637\n",
            "Epoc:  27 | MSE  0.16602\n",
            "Epoc:  27 | MSE  0.16558\n",
            "Epoc:  27 | MSE  0.16528\n",
            "Epoc:  27 | MSE  0.16487\n",
            "Epoc:  27 | MSE  0.16459\n",
            "Epoc:  27 | MSE  0.16437\n",
            "Epoc:  27 | MSE  0.16403\n",
            "Epoc:  27 | MSE  0.16366\n",
            "Epoc:  28 | MSE  0.16329\n",
            "Epoc:  28 | MSE  0.16299\n",
            "Epoc:  28 | MSE  0.16275\n",
            "Epoc:  28 | MSE  0.16249\n",
            "Epoc:  28 | MSE  0.16202\n",
            "Epoc:  28 | MSE  0.16165\n",
            "Epoc:  28 | MSE  0.16129\n",
            "Epoc:  28 | MSE  0.16098\n",
            "Epoc:  28 | MSE  0.16077\n",
            "Epoc:  28 | MSE  0.16056\n",
            "Epoc:  28 | MSE  0.16027\n",
            "Epoc:  28 | MSE  0.16004\n",
            "Epoc:  28 | MSE  0.15963\n",
            "Epoc:  28 | MSE  0.15933\n",
            "Epoc:  29 | MSE  0.15893\n",
            "Epoc:  29 | MSE  0.15869\n",
            "Epoc:  29 | MSE  0.15831\n",
            "Epoc:  29 | MSE  0.15797\n",
            "Epoc:  29 | MSE  0.15763\n",
            "Epoc:  29 | MSE  0.15734\n",
            "Epoc:  29 | MSE  0.15712\n",
            "Epoc:  29 | MSE  0.15686\n",
            "Epoc:  29 | MSE  0.15655\n",
            "Epoc:  29 | MSE  0.15628\n",
            "Epoc:  29 | MSE  0.15603\n",
            "Epoc:  29 | MSE  0.15573\n",
            "Epoc:  29 | MSE  0.15551\n",
            "Epoc:  29 | MSE  0.15526\n",
            "Epoc:  30 | MSE  0.15500\n",
            "Epoc:  30 | MSE  0.15471\n",
            "Epoc:  30 | MSE  0.15441\n",
            "Epoc:  30 | MSE  0.15415\n",
            "Epoc:  30 | MSE  0.15392\n",
            "Epoc:  30 | MSE  0.15371\n",
            "Epoc:  30 | MSE  0.15352\n",
            "Epoc:  30 | MSE  0.15328\n",
            "Epoc:  30 | MSE  0.15301\n",
            "Epoc:  30 | MSE  0.15272\n",
            "Epoc:  30 | MSE  0.15234\n",
            "Epoc:  30 | MSE  0.15207\n",
            "Epoc:  30 | MSE  0.15172\n",
            "Epoc:  30 | MSE  0.15143\n",
            "Epoc:  31 | MSE  0.15114\n",
            "Epoc:  31 | MSE  0.15088\n",
            "Epoc:  31 | MSE  0.15065\n",
            "Epoc:  31 | MSE  0.15034\n",
            "Epoc:  31 | MSE  0.15011\n",
            "Epoc:  31 | MSE  0.14990\n",
            "Epoc:  31 | MSE  0.14955\n",
            "Epoc:  31 | MSE  0.14931\n",
            "Epoc:  31 | MSE  0.14903\n",
            "Epoc:  31 | MSE  0.14881\n",
            "Epoc:  31 | MSE  0.14866\n",
            "Epoc:  31 | MSE  0.14833\n",
            "Epoc:  31 | MSE  0.14811\n",
            "Epoc:  31 | MSE  0.14783\n",
            "Epoc:  32 | MSE  0.14760\n",
            "Epoc:  32 | MSE  0.14740\n",
            "Epoc:  32 | MSE  0.14713\n",
            "Epoc:  32 | MSE  0.14686\n",
            "Epoc:  32 | MSE  0.14663\n",
            "Epoc:  32 | MSE  0.14639\n",
            "Epoc:  32 | MSE  0.14612\n",
            "Epoc:  32 | MSE  0.14591\n",
            "Epoc:  32 | MSE  0.14561\n",
            "Epoc:  32 | MSE  0.14537\n",
            "Epoc:  32 | MSE  0.14508\n",
            "Epoc:  32 | MSE  0.14486\n",
            "Epoc:  32 | MSE  0.14464\n",
            "Epoc:  32 | MSE  0.14445\n",
            "Epoc:  33 | MSE  0.14428\n",
            "Epoc:  33 | MSE  0.14398\n",
            "Epoc:  33 | MSE  0.14379\n",
            "Epoc:  33 | MSE  0.14357\n",
            "Epoc:  33 | MSE  0.14329\n",
            "Epoc:  33 | MSE  0.14312\n",
            "Epoc:  33 | MSE  0.14289\n",
            "Epoc:  33 | MSE  0.14271\n",
            "Epoc:  33 | MSE  0.14243\n",
            "Epoc:  33 | MSE  0.14221\n",
            "Epoc:  33 | MSE  0.14206\n",
            "Epoc:  33 | MSE  0.14176\n",
            "Epoc:  33 | MSE  0.14152\n",
            "Epoc:  33 | MSE  0.14127\n",
            "Epoc:  34 | MSE  0.14099\n",
            "Epoc:  34 | MSE  0.14075\n",
            "Epoc:  34 | MSE  0.14050\n",
            "Epoc:  34 | MSE  0.14033\n",
            "Epoc:  34 | MSE  0.14002\n",
            "Epoc:  34 | MSE  0.13983\n",
            "Epoc:  34 | MSE  0.13961\n",
            "Epoc:  34 | MSE  0.13949\n",
            "Epoc:  34 | MSE  0.13928\n",
            "Epoc:  34 | MSE  0.13910\n",
            "Epoc:  34 | MSE  0.13887\n",
            "Epoc:  34 | MSE  0.13869\n",
            "Epoc:  34 | MSE  0.13847\n",
            "Epoc:  34 | MSE  0.13827\n",
            "Epoc:  35 | MSE  0.13807\n",
            "Epoc:  35 | MSE  0.13783\n",
            "Epoc:  35 | MSE  0.13761\n",
            "Epoc:  35 | MSE  0.13743\n",
            "Epoc:  35 | MSE  0.13724\n",
            "Epoc:  35 | MSE  0.13709\n",
            "Epoc:  35 | MSE  0.13692\n",
            "Epoc:  35 | MSE  0.13669\n",
            "Epoc:  35 | MSE  0.13648\n",
            "Epoc:  35 | MSE  0.13629\n",
            "Epoc:  35 | MSE  0.13602\n",
            "Epoc:  35 | MSE  0.13584\n",
            "Epoc:  35 | MSE  0.13565\n",
            "Epoc:  35 | MSE  0.13545\n",
            "Epoc:  36 | MSE  0.13526\n",
            "Epoc:  36 | MSE  0.13500\n",
            "Epoc:  36 | MSE  0.13482\n",
            "Epoc:  36 | MSE  0.13457\n",
            "Epoc:  36 | MSE  0.13440\n",
            "Epoc:  36 | MSE  0.13423\n",
            "Epoc:  36 | MSE  0.13403\n",
            "Epoc:  36 | MSE  0.13382\n",
            "Epoc:  36 | MSE  0.13364\n",
            "Epoc:  36 | MSE  0.13341\n",
            "Epoc:  36 | MSE  0.13328\n",
            "Epoc:  36 | MSE  0.13315\n",
            "Epoc:  36 | MSE  0.13299\n",
            "Epoc:  36 | MSE  0.13280\n",
            "Epoc:  37 | MSE  0.13256\n",
            "Epoc:  37 | MSE  0.13236\n",
            "Epoc:  37 | MSE  0.13220\n",
            "Epoc:  37 | MSE  0.13197\n",
            "Epoc:  37 | MSE  0.13182\n",
            "Epoc:  37 | MSE  0.13170\n",
            "Epoc:  37 | MSE  0.13155\n",
            "Epoc:  37 | MSE  0.13142\n",
            "Epoc:  37 | MSE  0.13118\n",
            "Epoc:  37 | MSE  0.13099\n",
            "Epoc:  37 | MSE  0.13080\n",
            "Epoc:  37 | MSE  0.13068\n",
            "Epoc:  37 | MSE  0.13047\n",
            "Epoc:  37 | MSE  0.13031\n",
            "Epoc:  38 | MSE  0.13019\n",
            "Epoc:  38 | MSE  0.13000\n",
            "Epoc:  38 | MSE  0.12975\n",
            "Epoc:  38 | MSE  0.12956\n",
            "Epoc:  38 | MSE  0.12945\n",
            "Epoc:  38 | MSE  0.12930\n",
            "Epoc:  38 | MSE  0.12911\n",
            "Epoc:  38 | MSE  0.12895\n",
            "Epoc:  38 | MSE  0.12873\n",
            "Epoc:  38 | MSE  0.12861\n",
            "Epoc:  38 | MSE  0.12848\n",
            "Epoc:  38 | MSE  0.12829\n",
            "Epoc:  38 | MSE  0.12807\n",
            "Epoc:  38 | MSE  0.12796\n",
            "Epoc:  39 | MSE  0.12778\n",
            "Epoc:  39 | MSE  0.12764\n",
            "Epoc:  39 | MSE  0.12745\n",
            "Epoc:  39 | MSE  0.12729\n",
            "Epoc:  39 | MSE  0.12712\n",
            "Epoc:  39 | MSE  0.12696\n",
            "Epoc:  39 | MSE  0.12683\n",
            "Epoc:  39 | MSE  0.12665\n",
            "Epoc:  39 | MSE  0.12655\n",
            "Epoc:  39 | MSE  0.12637\n",
            "Epoc:  39 | MSE  0.12621\n",
            "Epoc:  39 | MSE  0.12603\n",
            "Epoc:  39 | MSE  0.12587\n",
            "Epoc:  39 | MSE  0.12575\n",
            "Epoc:  40 | MSE  0.12564\n",
            "Epoc:  40 | MSE  0.12552\n",
            "Epoc:  40 | MSE  0.12539\n",
            "Epoc:  40 | MSE  0.12521\n",
            "Epoc:  40 | MSE  0.12511\n",
            "Epoc:  40 | MSE  0.12502\n",
            "Epoc:  40 | MSE  0.12479\n",
            "Epoc:  40 | MSE  0.12465\n",
            "Epoc:  40 | MSE  0.12454\n",
            "Epoc:  40 | MSE  0.12441\n",
            "Epoc:  40 | MSE  0.12417\n",
            "Epoc:  40 | MSE  0.12400\n",
            "Epoc:  40 | MSE  0.12380\n",
            "Epoc:  40 | MSE  0.12367\n",
            "Epoc:  41 | MSE  0.12350\n",
            "Epoc:  41 | MSE  0.12336\n",
            "Epoc:  41 | MSE  0.12323\n",
            "Epoc:  41 | MSE  0.12302\n",
            "Epoc:  41 | MSE  0.12288\n",
            "Epoc:  41 | MSE  0.12272\n",
            "Epoc:  41 | MSE  0.12261\n",
            "Epoc:  41 | MSE  0.12252\n",
            "Epoc:  41 | MSE  0.12234\n",
            "Epoc:  41 | MSE  0.12218\n",
            "Epoc:  41 | MSE  0.12209\n",
            "Epoc:  41 | MSE  0.12199\n",
            "Epoc:  41 | MSE  0.12186\n",
            "Epoc:  41 | MSE  0.12171\n",
            "Epoc:  42 | MSE  0.12160\n",
            "Epoc:  42 | MSE  0.12140\n",
            "Epoc:  42 | MSE  0.12134\n",
            "Epoc:  42 | MSE  0.12122\n",
            "Epoc:  42 | MSE  0.12106\n",
            "Epoc:  42 | MSE  0.12084\n",
            "Epoc:  42 | MSE  0.12073\n",
            "Epoc:  42 | MSE  0.12062\n",
            "Epoc:  42 | MSE  0.12049\n",
            "Epoc:  42 | MSE  0.12031\n",
            "Epoc:  42 | MSE  0.12019\n",
            "Epoc:  42 | MSE  0.12003\n",
            "Epoc:  42 | MSE  0.11995\n",
            "Epoc:  42 | MSE  0.11986\n",
            "Epoc:  43 | MSE  0.11972\n",
            "Epoc:  43 | MSE  0.11957\n",
            "Epoc:  43 | MSE  0.11944\n",
            "Epoc:  43 | MSE  0.11937\n",
            "Epoc:  43 | MSE  0.11927\n",
            "Epoc:  43 | MSE  0.11921\n",
            "Epoc:  43 | MSE  0.11907\n",
            "Epoc:  43 | MSE  0.11886\n",
            "Epoc:  43 | MSE  0.11871\n",
            "Epoc:  43 | MSE  0.11856\n",
            "Epoc:  43 | MSE  0.11845\n",
            "Epoc:  43 | MSE  0.11838\n",
            "Epoc:  43 | MSE  0.11821\n",
            "Epoc:  43 | MSE  0.11812\n",
            "Epoc:  44 | MSE  0.11799\n",
            "Epoc:  44 | MSE  0.11788\n",
            "Epoc:  44 | MSE  0.11771\n",
            "Epoc:  44 | MSE  0.11761\n",
            "Epoc:  44 | MSE  0.11745\n",
            "Epoc:  44 | MSE  0.11737\n",
            "Epoc:  44 | MSE  0.11731\n",
            "Epoc:  44 | MSE  0.11717\n",
            "Epoc:  44 | MSE  0.11707\n",
            "Epoc:  44 | MSE  0.11694\n",
            "Epoc:  44 | MSE  0.11687\n",
            "Epoc:  44 | MSE  0.11675\n",
            "Epoc:  44 | MSE  0.11665\n",
            "Epoc:  44 | MSE  0.11649\n",
            "Epoc:  45 | MSE  0.11641\n",
            "Epoc:  45 | MSE  0.11626\n",
            "Epoc:  45 | MSE  0.11612\n",
            "Epoc:  45 | MSE  0.11603\n",
            "Epoc:  45 | MSE  0.11589\n",
            "Epoc:  45 | MSE  0.11578\n",
            "Epoc:  45 | MSE  0.11572\n",
            "Epoc:  45 | MSE  0.11560\n",
            "Epoc:  45 | MSE  0.11547\n",
            "Epoc:  45 | MSE  0.11538\n",
            "Epoc:  45 | MSE  0.11521\n",
            "Epoc:  45 | MSE  0.11509\n",
            "Epoc:  45 | MSE  0.11507\n",
            "Epoc:  45 | MSE  0.11494\n",
            "Epoc:  46 | MSE  0.11483\n",
            "Epoc:  46 | MSE  0.11473\n",
            "Epoc:  46 | MSE  0.11460\n",
            "Epoc:  46 | MSE  0.11453\n",
            "Epoc:  46 | MSE  0.11439\n",
            "Epoc:  46 | MSE  0.11431\n",
            "Epoc:  46 | MSE  0.11419\n",
            "Epoc:  46 | MSE  0.11409\n",
            "Epoc:  46 | MSE  0.11402\n",
            "Epoc:  46 | MSE  0.11392\n",
            "Epoc:  46 | MSE  0.11386\n",
            "Epoc:  46 | MSE  0.11373\n",
            "Epoc:  46 | MSE  0.11358\n",
            "Epoc:  46 | MSE  0.11349\n",
            "Epoc:  47 | MSE  0.11335\n",
            "Epoc:  47 | MSE  0.11326\n",
            "Epoc:  47 | MSE  0.11314\n",
            "Epoc:  47 | MSE  0.11309\n",
            "Epoc:  47 | MSE  0.11304\n",
            "Epoc:  47 | MSE  0.11299\n",
            "Epoc:  47 | MSE  0.11287\n",
            "Epoc:  47 | MSE  0.11272\n",
            "Epoc:  47 | MSE  0.11260\n",
            "Epoc:  47 | MSE  0.11253\n",
            "Epoc:  47 | MSE  0.11247\n",
            "Epoc:  47 | MSE  0.11237\n",
            "Epoc:  47 | MSE  0.11224\n",
            "Epoc:  47 | MSE  0.11212\n",
            "Epoc:  48 | MSE  0.11205\n",
            "Epoc:  48 | MSE  0.11199\n",
            "Epoc:  48 | MSE  0.11188\n",
            "Epoc:  48 | MSE  0.11179\n",
            "Epoc:  48 | MSE  0.11173\n",
            "Epoc:  48 | MSE  0.11159\n",
            "Epoc:  48 | MSE  0.11150\n",
            "Epoc:  48 | MSE  0.11142\n",
            "Epoc:  48 | MSE  0.11136\n",
            "Epoc:  48 | MSE  0.11123\n",
            "Epoc:  48 | MSE  0.11112\n",
            "Epoc:  48 | MSE  0.11099\n",
            "Epoc:  48 | MSE  0.11092\n",
            "Epoc:  48 | MSE  0.11083\n",
            "Epoc:  49 | MSE  0.11073\n",
            "Epoc:  49 | MSE  0.11065\n",
            "Epoc:  49 | MSE  0.11060\n",
            "Epoc:  49 | MSE  0.11050\n",
            "Epoc:  49 | MSE  0.11039\n",
            "Epoc:  49 | MSE  0.11035\n",
            "Epoc:  49 | MSE  0.11026\n",
            "Epoc:  49 | MSE  0.11017\n",
            "Epoc:  49 | MSE  0.11006\n",
            "Epoc:  49 | MSE  0.10997\n",
            "Epoc:  49 | MSE  0.10988\n",
            "Epoc:  49 | MSE  0.10982\n",
            "Epoc:  49 | MSE  0.10971\n",
            "Epoc:  49 | MSE  0.10961\n",
            "Epoc:  50 | MSE  0.10949\n",
            "Epoc:  50 | MSE  0.10942\n",
            "Epoc:  50 | MSE  0.10935\n",
            "Epoc:  50 | MSE  0.10923\n",
            "Epoc:  50 | MSE  0.10922\n",
            "Epoc:  50 | MSE  0.10913\n",
            "Epoc:  50 | MSE  0.10900\n",
            "Epoc:  50 | MSE  0.10891\n",
            "Epoc:  50 | MSE  0.10885\n",
            "Epoc:  50 | MSE  0.10879\n",
            "Epoc:  50 | MSE  0.10867\n",
            "Epoc:  50 | MSE  0.10863\n",
            "Epoc:  50 | MSE  0.10856\n",
            "Epoc:  50 | MSE  0.10847\n"
          ]
        }
      ],
      "source": [
        "cost=train(model,X_train,y_train,n_epoch=50)"
      ]
    },
    {
      "cell_type": "code",
      "execution_count": null,
      "metadata": {
        "colab": {
          "base_uri": "https://localhost:8080/",
          "height": 296
        },
        "id": "Zsd0i2_zNS_k",
        "outputId": "1d48ecdf-999b-4a55-e47c-ce01c4a0fd37"
      },
      "outputs": [
        {
          "data": {
            "text/plain": [
              "[]"
            ]
          },
          "execution_count": 25,
          "metadata": {},
          "output_type": "execute_result"
        },
        {
          "data": {
            "image/png": "[encoded data removed]",
            "text/plain": [
              "<Figure size 432x288 with 1 Axes>"
            ]
          },
          "metadata": {},
          "output_type": "display_data"
        }
      ],
      "source": [
        "plt.plot(range(len(cost)),cost)\n",
        "plt.xlabel('No of Epochs')\n",
        "plt.ylabel('Mean Squared Error')\n",
        "plt.plot()"
      ]
    },
    {
      "cell_type": "code",
      "execution_count": null,
      "metadata": {
        "colab": {
          "base_uri": "https://localhost:8080/"
        },
        "id": "Tu4UBdXwNgBC",
        "outputId": "ff1dafde-a250-4fb9-ae09-197bf14dc568"
      },
      "outputs": [
        {
          "name": "stdout",
          "output_type": "stream",
          "text": [
            "Training Accuracy : 0.91\n",
            "Testing Accuracy: 0.89\n"
          ]
        }
      ],
      "source": [
        "ones=torch.ones(y_train.size(0))\n",
        "zero=torch.zeros(y_train.size(0))\n",
        "train_pred=model.forward(X_train)\n",
        "train_acc=torch.mean((torch.where( train_pred >0.5 , ones,zero).int()==y_train).float())\n",
        "#print(train_acc)\n",
        "ones=torch.ones(y_test.size(0))\n",
        "zero=torch.zeros(y_test.size(0))\n",
        "test_pred=model.forward(X_test)\n",
        "test_acc=torch.mean((torch.where( test_pred >0.5 , ones,zero).int()==y_test).float())\n",
        "print('Training Accuracy : %.2f' % train_acc)\n",
        "print('Testing Accuracy: %.2f' % test_acc)"
      ]
    },
    {
      "cell_type": "markdown",
      "metadata": {
        "id": "2XiouzY-Pd7B"
      },
      "source": [
        "# **EXPERIMENT 3**"
      ]
    },
    {
      "cell_type": "code",
      "execution_count": null,
      "metadata": {
        "id": "woiuXaCwSu9a"
      },
      "outputs": [],
      "source": []
    },
    {
      "cell_type": "code",
      "execution_count": null,
      "metadata": {
        "id": "ZxfzVLDD8pOk"
      },
      "outputs": [],
      "source": [
        "import torch\n",
        "import sklearn\n"
      ]
    },
    {
      "cell_type": "code",
      "execution_count": null,
      "metadata": {
        "colab": {
          "base_uri": "https://localhost:8080/"
        },
        "id": "Ychf-Ig284wF",
        "outputId": "f60b0215-f529-4850-a1ec-16290728ac56"
      },
      "outputs": [
        {
          "data": {
            "text/plain": [
              "<torch._C.Generator at 0x7f8396402a50>"
            ]
          },
          "execution_count": 12,
          "metadata": {},
          "output_type": "execute_result"
        }
      ],
      "source": [
        "from sklearn.datasets import make_classification\n",
        "torch.manual_seed(123)"
      ]
    },
    {
      "cell_type": "code",
      "execution_count": null,
      "metadata": {
        "id": "1LxdPxns9Ax3"
      },
      "outputs": [],
      "source": [
        "## Make a Toy Dataset\n",
        "X,y=make_classification(n_samples=1000,n_features=4 ,n_classes=2)\n",
        "\n",
        "### Change it into the Tensor\n",
        "X=torch.tensor(X,dtype=torch.float32)\n",
        "y=torch.tensor(y,dtype=torch.float32)\n",
        "\n",
        "\n",
        "\n"
      ]
    },
    {
      "cell_type": "code",
      "execution_count": null,
      "metadata": {
        "colab": {
          "base_uri": "https://localhost:8080/"
        },
        "id": "iW3ACthE9UHy",
        "outputId": "78b58ca4-f620-4f96-f766-c485df103932"
      },
      "outputs": [
        {
          "data": {
            "text/plain": [
              "tensor([937, 859, 548, 487, 148, 190, 199, 632,  33, 714])"
            ]
          },
          "execution_count": 14,
          "metadata": {},
          "output_type": "execute_result"
        }
      ],
      "source": [
        "### Data Suffling\n",
        "torch.manual_seed(10)\n",
        "suffle_idx=torch.randperm(y.size(0),dtype=torch.long)\n",
        "X,y=X[suffle_idx],y[suffle_idx]\n",
        "suffle_idx[:10]"
      ]
    },
    {
      "cell_type": "code",
      "execution_count": null,
      "metadata": {
        "id": "htyqar_O_gQS"
      },
      "outputs": [],
      "source": [
        "#### Train Test split\n",
        "train_size=int(suffle_idx.size(0)*0.7)\n",
        "train_idx= suffle_idx[:train_size]\n",
        "test_idx=suffle_idx[train_size:]\n",
        "X_train,y_train=X[train_idx],y[train_idx]\n",
        "X_test,y_test=X[test_idx],y[test_idx]"
      ]
    },
    {
      "cell_type": "code",
      "execution_count": null,
      "metadata": {
        "colab": {
          "base_uri": "https://localhost:8080/"
        },
        "id": "y612znKOZBe1",
        "outputId": "07bb4952-66b5-4ac9-e895-9076c0b6960a"
      },
      "outputs": [
        {
          "data": {
            "text/plain": [
              "torch.Size([700, 4])"
            ]
          },
          "execution_count": 16,
          "metadata": {},
          "output_type": "execute_result"
        }
      ],
      "source": [
        "X_train.shape"
      ]
    },
    {
      "cell_type": "code",
      "execution_count": null,
      "metadata": {
        "colab": {
          "base_uri": "https://localhost:8080/"
        },
        "id": "qph9HFKGZE5I",
        "outputId": "5c47991d-c58f-4513-b43d-b547410de2c4"
      },
      "outputs": [
        {
          "data": {
            "text/plain": [
              "torch.Size([300, 4])"
            ]
          },
          "execution_count": 17,
          "metadata": {},
          "output_type": "execute_result"
        }
      ],
      "source": [
        "X_test.shape"
      ]
    },
    {
      "cell_type": "code",
      "execution_count": null,
      "metadata": {
        "id": "b6lDzsNjAD6Q"
      },
      "outputs": [],
      "source": [
        "#### Normalize\n",
        "\n",
        "mean,std_dev=X_train.mean(dim=0) ,X_train.std(dim=0)\n",
        "X_train=(X_train-mean)/std_dev\n",
        "X_test=(X_test-mean)/std_dev"
      ]
    },
    {
      "cell_type": "code",
      "execution_count": null,
      "metadata": {
        "id": "QDGeHX1VDcDG"
      },
      "outputs": [],
      "source": [
        "import torch.nn as nn\n",
        "from torch.autograd import grad"
      ]
    },
    {
      "cell_type": "code",
      "execution_count": null,
      "metadata": {
        "id": "S5gFo5e-Dkon"
      },
      "outputs": [],
      "source": [
        "class NN():\n",
        "  def __init__(self,n_features):\n",
        "    self.n_features=n_features\n",
        "    self.weight=torch.zeros(size=(n_features,1),dtype=torch.float,requires_grad=True)\n",
        "    self.bias=torch.zeros(1,dtype=torch.float,requires_grad=True)\n",
        "  \n",
        "\n",
        "  def forward(self,x):\n",
        "    output=torch.add(torch.mm(x,self.weight),self.bias)\n",
        "    return output.view(-1)\n",
        "\n",
        "def loss_fn(yhat,y):\n",
        "  return torch.mean((yhat-y)**2)\n"
      ]
    },
    {
      "cell_type": "code",
      "execution_count": null,
      "metadata": {
        "id": "W4VG658oG6Sk"
      },
      "outputs": [],
      "source": [
        "def train(model,x,y,n_epoch=10,lr=0.001,seed=23,bsz=50):\n",
        "\n",
        "  cost=[]\n",
        "  torch.manual_seed(seed)\n",
        "  for i in range(n_epoch):\n",
        "    suffle_idx=torch.randperm(y.size(0))\n",
        "    batches=torch.split(suffle_idx,bsz)\n",
        "\n",
        "    for idx in batches:\n",
        "\n",
        "      ###1. Compute the output\n",
        "      yhat=model.forward(x[idx])\n",
        "\n",
        "      ###2. Compute the Error\n",
        "      loss=loss_fn(yhat,y[idx])\n",
        "\n",
        "      ###3. Compute the gradient\n",
        "      grad_w=grad(loss,model.weight,retain_graph=True)[0]\n",
        "      grad_b=grad(loss,model.bias)[0]\n",
        "\n",
        "      ###4. Update Model Parameters\n",
        "      model.weight=model.weight-lr*grad_w\n",
        "      model.bias=model.bias-lr*grad_b\n",
        "\n",
        "    ###5. Log and print the loss\n",
        "    with torch.no_grad():\n",
        "      yhat=model.forward(x)\n",
        "      curr_loss=loss_fn(yhat,y)\n",
        "      print('Epoc: %3d ' % (i+1),end=\"\")\n",
        "      print('| MSE % .5f' % curr_loss)\n",
        "      cost.append(curr_loss)\n",
        "      \n",
        "  return cost\n",
        "\n",
        "\n"
      ]
    },
    {
      "cell_type": "code",
      "execution_count": null,
      "metadata": {
        "colab": {
          "base_uri": "https://localhost:8080/"
        },
        "id": "pg5M3m31Fo39",
        "outputId": "50233a25-36e3-42f6-8117-5252501930c8"
      },
      "outputs": [
        {
          "name": "stdout",
          "output_type": "stream",
          "text": [
            "Epoc:   1 | MSE  0.48372\n",
            "Epoc:   2 | MSE  0.46208\n",
            "Epoc:   3 | MSE  0.44202\n",
            "Epoc:   4 | MSE  0.42340\n",
            "Epoc:   5 | MSE  0.40610\n",
            "Epoc:   6 | MSE  0.38999\n",
            "Epoc:   7 | MSE  0.37497\n",
            "Epoc:   8 | MSE  0.36094\n",
            "Epoc:   9 | MSE  0.34781\n",
            "Epoc:  10 | MSE  0.33554\n",
            "Epoc:  11 | MSE  0.32404\n",
            "Epoc:  12 | MSE  0.31326\n",
            "Epoc:  13 | MSE  0.30314\n",
            "Epoc:  14 | MSE  0.29363\n",
            "Epoc:  15 | MSE  0.28470\n",
            "Epoc:  16 | MSE  0.27629\n",
            "Epoc:  17 | MSE  0.26838\n",
            "Epoc:  18 | MSE  0.26094\n",
            "Epoc:  19 | MSE  0.25392\n",
            "Epoc:  20 | MSE  0.24731\n",
            "Epoc:  21 | MSE  0.24108\n",
            "Epoc:  22 | MSE  0.23520\n",
            "Epoc:  23 | MSE  0.22966\n",
            "Epoc:  24 | MSE  0.22443\n",
            "Epoc:  25 | MSE  0.21949\n",
            "Epoc:  26 | MSE  0.21484\n",
            "Epoc:  27 | MSE  0.21044\n",
            "Epoc:  28 | MSE  0.20628\n",
            "Epoc:  29 | MSE  0.20236\n",
            "Epoc:  30 | MSE  0.19865\n",
            "Epoc:  31 | MSE  0.19515\n",
            "Epoc:  32 | MSE  0.19184\n",
            "Epoc:  33 | MSE  0.18872\n",
            "Epoc:  34 | MSE  0.18576\n",
            "Epoc:  35 | MSE  0.18297\n",
            "Epoc:  36 | MSE  0.18033\n",
            "Epoc:  37 | MSE  0.17784\n",
            "Epoc:  38 | MSE  0.17548\n",
            "Epoc:  39 | MSE  0.17324\n",
            "Epoc:  40 | MSE  0.17114\n",
            "Epoc:  41 | MSE  0.16915\n",
            "Epoc:  42 | MSE  0.16726\n",
            "Epoc:  43 | MSE  0.16548\n",
            "Epoc:  44 | MSE  0.16379\n",
            "Epoc:  45 | MSE  0.16220\n",
            "Epoc:  46 | MSE  0.16069\n",
            "Epoc:  47 | MSE  0.15926\n",
            "Epoc:  48 | MSE  0.15792\n",
            "Epoc:  49 | MSE  0.15664\n",
            "Epoc:  50 | MSE  0.15544\n"
          ]
        }
      ],
      "source": [
        "model=NN(X_train.size(1))\n",
        "cost=train(model,X_train,y_train,n_epoch=50)"
      ]
    },
    {
      "cell_type": "code",
      "execution_count": null,
      "metadata": {
        "colab": {
          "base_uri": "https://localhost:8080/",
          "height": 283
        },
        "id": "AUiMMWXeX2X6",
        "outputId": "b1901d29-9b95-434f-c1fb-a9b6e4d1872b"
      },
      "outputs": [
        {
          "data": {
            "image/png": "[encoded data removed]",
            "text/plain": [
              "<Figure size 432x288 with 1 Axes>"
            ]
          },
          "metadata": {},
          "output_type": "display_data"
        }
      ],
      "source": [
        "import matplotlib.pyplot as plt\n",
        "plt.plot(range(len(cost)),cost)\n",
        "plt.ylabel('Mean Sqare Error')\n",
        "plt.xlabel('Epoc')\n",
        "plt.show()"
      ]
    },
    {
      "cell_type": "code",
      "execution_count": null,
      "metadata": {
        "colab": {
          "base_uri": "https://localhost:8080/"
        },
        "id": "noMdRIQnY2yD",
        "outputId": "798b447e-19e3-4e70-ec05-df2d4dd25edd"
      },
      "outputs": [
        {
          "name": "stdout",
          "output_type": "stream",
          "text": [
            "Training Accuracy: 79.29\n",
            "Testing Accuracy: 79.00\n"
          ]
        }
      ],
      "source": [
        "ones=torch.ones(y_train.size())\n",
        "zero=torch.zeros(y_train.size())\n",
        "train_pred=model.forward(X_train)\n",
        "train_acc=torch.mean((  \n",
        "    torch.where(train_pred > 0.5,\n",
        "                ones,zero).int()==y_train).float())\n",
        "\n",
        "\n",
        "ones=torch.ones(y_test.size())\n",
        "zeros=torch.zeros(y_test.size())\n",
        "test_pred=model.forward(X_test)\n",
        "test_acc=torch.mean((torch.where(test_pred> 0.5,ones,zeros).int()==y_test).float())\n",
        "\n",
        "print('Training Accuracy: %.2f' % (train_acc*100))\n",
        "print('Testing Accuracy: %.2f' % (test_acc*100))\n"
      ]
    },
    {
      "cell_type": "markdown",
      "metadata": {
        "id": "0jE4vxUqhE9S"
      },
      "source": [
        "### Model Using Pytorch"
      ]
    },
    {
      "cell_type": "code",
      "execution_count": null,
      "metadata": {
        "id": "y3lKWHDh3Z2E"
      },
      "outputs": [],
      "source": [
        "import torch\n",
        "import sklearn\n",
        "import torch.nn.functional as F"
      ]
    },
    {
      "cell_type": "code",
      "execution_count": null,
      "metadata": {
        "id": "mIvsPBpi3exX"
      },
      "outputs": [],
      "source": [
        "from sklearn.datasets import make_classification\n",
        "from sklearn.model_selection import train_test_split\n",
        "from sklearn.preprocessing import StandardScaler"
      ]
    },
    {
      "cell_type": "code",
      "execution_count": null,
      "metadata": {
        "id": "1JIHbj2035fP"
      },
      "outputs": [],
      "source": [
        "### Create The dataset\n",
        "X,y=make_classification(n_samples=1000,n_classes=2,n_features=4)\n",
        "\n",
        "### Normalize the Data\n",
        "scaler=StandardScaler()\n",
        "X=scaler.fit_transform(X)\n",
        "\n",
        "### Array to Tensor\n",
        "X=torch.tensor(X,dtype=torch.float32)\n",
        "y=torch.tensor(y,dtype=torch.float32)"
      ]
    },
    {
      "cell_type": "code",
      "execution_count": null,
      "metadata": {
        "colab": {
          "base_uri": "https://localhost:8080/"
        },
        "id": "vOTlEa224ok7",
        "outputId": "7d0e30ec-414b-47b5-a702-1af88a23c1b0"
      },
      "outputs": [
        {
          "name": "stdout",
          "output_type": "stream",
          "text": [
            "torch.Size([700, 4])\n",
            "torch.Size([300, 4])\n"
          ]
        }
      ],
      "source": [
        "X_train,X_test,y_train,y_test=train_test_split(X,y,test_size=.3,random_state=21)\n",
        "print(X_train.shape)\n",
        "print(X_test.shape)"
      ]
    },
    {
      "cell_type": "code",
      "execution_count": null,
      "metadata": {
        "id": "vpJjGYOI6Qk7"
      },
      "outputs": [],
      "source": []
    },
    {
      "cell_type": "code",
      "execution_count": null,
      "metadata": {
        "id": "DNSgj7UkhIIK"
      },
      "outputs": [],
      "source": [
        "class NNpt(nn.Module):\n",
        "  def __init__(self,n_features):\n",
        "    super(NNpt,self).__init__()\n",
        "    self.linear=nn.Linear(n_features,1)\n",
        "\n",
        "    self.linear.weight.detach().zero_()\n",
        "    self.linear.bias.detach().zero_()\n",
        "\n",
        "\n",
        "  def forward(self,x):\n",
        "    out=self.linear(x)\n",
        "    return out.view(-1)\n",
        "\n",
        "\n",
        "\n",
        "    "
      ]
    },
    {
      "cell_type": "code",
      "execution_count": null,
      "metadata": {
        "id": "HQNqqR33nsLH"
      },
      "outputs": [],
      "source": [
        "def train(model,x,y,n_epoch=10,lr=0.001,seed=23,bsz=50):\n",
        "\n",
        "  cost=[]\n",
        "  torch.manual_seed(seed)\n",
        "   ### Optimizer\n",
        "  optimizer=torch.optim.SGD(model.parameters(),lr=lr)\n",
        "  for i in range(n_epoch):\n",
        "    suffle_idx=torch.randperm(y.size(0))\n",
        "    batches=torch.split(suffle_idx,bsz)\n",
        "\n",
        "    for idx in batches:\n",
        "      ###1. Compute the Output\n",
        "      yhat=model.forward(x[idx])\n",
        "\n",
        "      ###2. Compute the Loss\n",
        "      loss=torch.nn.functional.mse_loss(yhat,y[idx])\n",
        "\n",
        "      ###3. Compute the Gradients\n",
        "      optimizer.zero_grad()\n",
        "      loss.backward()\n",
        "\n",
        "      ###4. Update the Model Parameters\n",
        "      optimizer.step()\n",
        "\n",
        "      #model.weight=model.weight-lr*grad_w\n",
        "      #model.bias=model.bias-lr*grad_b\n",
        "\n",
        "    ###5. Log and print the Loss\n",
        "    with torch.no_grad():\n",
        "      yhat=model.forward(x)\n",
        "      curr_loss=loss_fn(yhat,y)\n",
        "      print('Epoc: %3d ' % (i+1),end=\"\")\n",
        "      print('| MSE % .5f' % curr_loss)\n",
        "      cost.append(curr_loss)\n",
        "      \n",
        "  return cost"
      ]
    },
    {
      "cell_type": "code",
      "execution_count": null,
      "metadata": {
        "id": "sPFjue7WlmW-"
      },
      "outputs": [],
      "source": [
        "n_feature=X_train.size(1)\n",
        "model=NNpt(n_features=n_feature)\n"
      ]
    },
    {
      "cell_type": "code",
      "execution_count": null,
      "metadata": {
        "colab": {
          "base_uri": "https://localhost:8080/"
        },
        "id": "li9AFeIanQZS",
        "outputId": "f145db74-ccf1-44c1-9094-3f0976c4f715"
      },
      "outputs": [
        {
          "name": "stdout",
          "output_type": "stream",
          "text": [
            "Epoc:   1 | MSE  0.47100\n",
            "Epoc:   2 | MSE  0.44480\n",
            "Epoc:   3 | MSE  0.42101\n",
            "Epoc:   4 | MSE  0.39939\n",
            "Epoc:   5 | MSE  0.37965\n",
            "Epoc:   6 | MSE  0.36160\n",
            "Epoc:   7 | MSE  0.34505\n",
            "Epoc:   8 | MSE  0.32986\n",
            "Epoc:   9 | MSE  0.31586\n",
            "Epoc:  10 | MSE  0.30293\n",
            "Epoc:  11 | MSE  0.29095\n",
            "Epoc:  12 | MSE  0.27987\n",
            "Epoc:  13 | MSE  0.26958\n",
            "Epoc:  14 | MSE  0.26000\n",
            "Epoc:  15 | MSE  0.25108\n",
            "Epoc:  16 | MSE  0.24276\n",
            "Epoc:  17 | MSE  0.23500\n",
            "Epoc:  18 | MSE  0.22774\n",
            "Epoc:  19 | MSE  0.22095\n",
            "Epoc:  20 | MSE  0.21459\n",
            "Epoc:  21 | MSE  0.20861\n",
            "Epoc:  22 | MSE  0.20301\n",
            "Epoc:  23 | MSE  0.19775\n",
            "Epoc:  24 | MSE  0.19281\n",
            "Epoc:  25 | MSE  0.18816\n",
            "Epoc:  26 | MSE  0.18380\n",
            "Epoc:  27 | MSE  0.17968\n",
            "Epoc:  28 | MSE  0.17581\n",
            "Epoc:  29 | MSE  0.17216\n",
            "Epoc:  30 | MSE  0.16872\n",
            "Epoc:  31 | MSE  0.16548\n",
            "Epoc:  32 | MSE  0.16242\n",
            "Epoc:  33 | MSE  0.15954\n",
            "Epoc:  34 | MSE  0.15682\n",
            "Epoc:  35 | MSE  0.15426\n",
            "Epoc:  36 | MSE  0.15184\n",
            "Epoc:  37 | MSE  0.14955\n",
            "Epoc:  38 | MSE  0.14739\n",
            "Epoc:  39 | MSE  0.14536\n",
            "Epoc:  40 | MSE  0.14343\n",
            "Epoc:  41 | MSE  0.14162\n",
            "Epoc:  42 | MSE  0.13990\n",
            "Epoc:  43 | MSE  0.13828\n",
            "Epoc:  44 | MSE  0.13676\n",
            "Epoc:  45 | MSE  0.13531\n",
            "Epoc:  46 | MSE  0.13394\n",
            "Epoc:  47 | MSE  0.13265\n",
            "Epoc:  48 | MSE  0.13143\n",
            "Epoc:  49 | MSE  0.13028\n",
            "Epoc:  50 | MSE  0.12920\n"
          ]
        }
      ],
      "source": [
        "cost=train(model,X_train,y_train,n_epoch=50)"
      ]
    },
    {
      "cell_type": "code",
      "execution_count": null,
      "metadata": {
        "colab": {
          "base_uri": "https://localhost:8080/",
          "height": 296
        },
        "id": "U7FElcjK6m8I",
        "outputId": "47f7d6fd-5ae3-4624-d13d-5bed7b8f6241"
      },
      "outputs": [
        {
          "data": {
            "text/plain": [
              "[]"
            ]
          },
          "execution_count": 33,
          "metadata": {},
          "output_type": "execute_result"
        },
        {
          "data": {
            "image/png": "[encoded data removed]",
            "text/plain": [
              "<Figure size 432x288 with 1 Axes>"
            ]
          },
          "metadata": {},
          "output_type": "display_data"
        }
      ],
      "source": [
        "plt.plot(range(len(cost)),cost)\n",
        "plt.xlabel('No of Epochs')\n",
        "plt.ylabel('Mean Squared Error')\n",
        "plt.plot()"
      ]
    },
    {
      "cell_type": "code",
      "execution_count": null,
      "metadata": {
        "colab": {
          "base_uri": "https://localhost:8080/"
        },
        "id": "gb4XmG8W7UjJ",
        "outputId": "0432b60a-b8ef-43aa-f984-72d115be05dc"
      },
      "outputs": [
        {
          "name": "stdout",
          "output_type": "stream",
          "text": [
            "Training Accuracy : 0.83\n",
            "Testing Accuracy: 0.86\n"
          ]
        }
      ],
      "source": [
        "ones=torch.ones(y_train.size(0))\n",
        "zero=torch.zeros(y_train.size(0))\n",
        "train_pred=model.forward(X_train)\n",
        "\n",
        "train_acc=torch.mean((torch.where( train_pred >0.5 , ones,zero).int()==y_train).float())\n",
        "#print(train_acc)\n",
        "\n",
        "ones=torch.ones(y_test.size(0))\n",
        "zero=torch.zeros(y_test.size(0))\n",
        "test_pred=model.forward(X_test)\n",
        "\n",
        "test_acc=torch.mean((torch.where( test_pred >0.5 , ones,zero).int()==y_test).float())\n",
        "print('Training Accuracy : %.2f' % train_acc)\n",
        "print('Testing Accuracy: %.2f' % test_acc)"
      ]
    },
    {
      "cell_type": "code",
      "execution_count": null,
      "metadata": {
        "id": "uqa-iRClTG2l"
      },
      "outputs": [],
      "source": []
    },
    {
      "cell_type": "markdown",
      "metadata": {
        "id": "Jw4-SmjGAwKw"
      },
      "source": [
        "### Logistic Regression"
      ]
    },
    {
      "cell_type": "code",
      "execution_count": null,
      "metadata": {
        "id": "fOvf9DILA0Vt"
      },
      "outputs": [],
      "source": [
        "def train(model,x,y,n_epoch=10,lr=0.001,seed=23,bsz=50):\n",
        "\n",
        "  cost=[]\n",
        "  torch.manual_seed(seed)\n",
        "   ### Optimizer\n",
        "  optimizer=torch.optim.SGD(model.parameters(),lr=lr)\n",
        "  for i in range(n_epoch):\n",
        "    suffle_idx=torch.randperm(y.size(0))\n",
        "    batches=torch.split(suffle_idx,bsz)\n",
        "\n",
        "    for idx in batches:\n",
        "      ###1. Compute the Output\n",
        "      yhat=model.forward(x[idx])\n",
        "\n",
        "      ###2. Compute the Loss\n",
        "      loss=torch.nn.functional.binary_cross_entropy(torch.sigmoid(yhat),y[idx])\n",
        "\n",
        "      ###3. Compute the Gradients\n",
        "      optimizer.zero_grad()\n",
        "      loss.backward()\n",
        "\n",
        "      ###4. Update the Model Parameters\n",
        "      optimizer.step()\n",
        "\n",
        "      #model.weight=model.weight-lr*grad_w\n",
        "      #model.bias=model.bias-lr*grad_b\n",
        "\n",
        "    ###5. Log and print the Loss\n",
        "    with torch.no_grad():\n",
        "      yhat=model.forward(x)\n",
        "      curr_loss=loss_fn(yhat,y)\n",
        "      print('Epoc: %3d ' % (i+1),end=\"\")\n",
        "      print('| MSE % .5f' % curr_loss)\n",
        "      cost.append(curr_loss)\n",
        "      \n",
        "  return cost"
      ]
    },
    {
      "cell_type": "code",
      "execution_count": null,
      "metadata": {
        "id": "PIUIMhifBawi"
      },
      "outputs": [],
      "source": [
        "n_feature=X_train.size(1)\n",
        "model=NNpt(n_features=n_feature)\n"
      ]
    },
    {
      "cell_type": "code",
      "execution_count": null,
      "metadata": {
        "colab": {
          "base_uri": "https://localhost:8080/"
        },
        "id": "0C-2cXsdBdVJ",
        "outputId": "ed9a77fd-d8ef-4f71-a847-b43084ba8542"
      },
      "outputs": [
        {
          "name": "stdout",
          "output_type": "stream",
          "text": [
            "Epoc:   1 | MSE  0.49174\n",
            "Epoc:   2 | MSE  0.48387\n",
            "Epoc:   3 | MSE  0.47638\n",
            "Epoc:   4 | MSE  0.46926\n",
            "Epoc:   5 | MSE  0.46250\n",
            "Epoc:   6 | MSE  0.45610\n",
            "Epoc:   7 | MSE  0.45003\n",
            "Epoc:   8 | MSE  0.44430\n",
            "Epoc:   9 | MSE  0.43889\n",
            "Epoc:  10 | MSE  0.43380\n",
            "Epoc:  11 | MSE  0.42902\n",
            "Epoc:  12 | MSE  0.42453\n",
            "Epoc:  13 | MSE  0.42033\n",
            "Epoc:  14 | MSE  0.41642\n",
            "Epoc:  15 | MSE  0.41278\n",
            "Epoc:  16 | MSE  0.40941\n",
            "Epoc:  17 | MSE  0.40630\n",
            "Epoc:  18 | MSE  0.40344\n",
            "Epoc:  19 | MSE  0.40083\n",
            "Epoc:  20 | MSE  0.39846\n",
            "Epoc:  21 | MSE  0.39632\n",
            "Epoc:  22 | MSE  0.39441\n",
            "Epoc:  23 | MSE  0.39272\n",
            "Epoc:  24 | MSE  0.39124\n",
            "Epoc:  25 | MSE  0.38997\n",
            "Epoc:  26 | MSE  0.38890\n",
            "Epoc:  27 | MSE  0.38803\n",
            "Epoc:  28 | MSE  0.38735\n",
            "Epoc:  29 | MSE  0.38686\n",
            "Epoc:  30 | MSE  0.38655\n",
            "Epoc:  31 | MSE  0.38641\n",
            "Epoc:  32 | MSE  0.38645\n",
            "Epoc:  33 | MSE  0.38665\n",
            "Epoc:  34 | MSE  0.38701\n",
            "Epoc:  35 | MSE  0.38753\n",
            "Epoc:  36 | MSE  0.38821\n",
            "Epoc:  37 | MSE  0.38903\n",
            "Epoc:  38 | MSE  0.39000\n",
            "Epoc:  39 | MSE  0.39111\n",
            "Epoc:  40 | MSE  0.39235\n",
            "Epoc:  41 | MSE  0.39373\n",
            "Epoc:  42 | MSE  0.39523\n",
            "Epoc:  43 | MSE  0.39686\n",
            "Epoc:  44 | MSE  0.39862\n",
            "Epoc:  45 | MSE  0.40049\n",
            "Epoc:  46 | MSE  0.40248\n",
            "Epoc:  47 | MSE  0.40458\n",
            "Epoc:  48 | MSE  0.40679\n",
            "Epoc:  49 | MSE  0.40910\n",
            "Epoc:  50 | MSE  0.41152\n"
          ]
        }
      ],
      "source": [
        "cost=train(model,X_train,y_train,n_epoch=50)"
      ]
    },
    {
      "cell_type": "code",
      "execution_count": null,
      "metadata": {
        "colab": {
          "base_uri": "https://localhost:8080/",
          "height": 296
        },
        "id": "Poh0lJYHBzdN",
        "outputId": "05690313-01fe-4f9f-ce45-5cc3a1eb05e2"
      },
      "outputs": [
        {
          "data": {
            "text/plain": [
              "[]"
            ]
          },
          "execution_count": 38,
          "metadata": {},
          "output_type": "execute_result"
        },
        {
          "data": {
            "image/png": "[encoded data removed]",
            "text/plain": [
              "<Figure size 432x288 with 1 Axes>"
            ]
          },
          "metadata": {},
          "output_type": "display_data"
        }
      ],
      "source": [
        "plt.plot(range(len(cost)),cost)\n",
        "plt.xlabel('No of Epochs')\n",
        "plt.ylabel('Mean Squared Error')\n",
        "plt.plot()"
      ]
    },
    {
      "cell_type": "code",
      "execution_count": null,
      "metadata": {
        "colab": {
          "base_uri": "https://localhost:8080/"
        },
        "id": "AwaMm8VzCmgc",
        "outputId": "2601e687-d501-49d6-8805-a6354afd42de"
      },
      "outputs": [
        {
          "name": "stdout",
          "output_type": "stream",
          "text": [
            "Training Accuracy : 0.67\n",
            "Testing Accuracy: 0.67\n"
          ]
        }
      ],
      "source": [
        "ones=torch.ones(y_train.size(0))\n",
        "zero=torch.zeros(y_train.size(0))\n",
        "train_pred=model.forward(X_train)\n",
        "\n",
        "train_acc=torch.mean((torch.where( train_pred >0.5 , ones,zero).int()==y_train).float())\n",
        "#print(train_acc)\n",
        "\n",
        "ones=torch.ones(y_test.size(0))\n",
        "zero=torch.zeros(y_test.size(0))\n",
        "test_pred=model.forward(X_test)\n",
        "\n",
        "test_acc=torch.mean((torch.where( test_pred >0.5 , ones,zero).int()==y_test).float())\n",
        "print('Training Accuracy : %.2f' % train_acc)\n",
        "print('Testing Accuracy: %.2f' % test_acc)"
      ]
    },
    {
      "cell_type": "markdown",
      "metadata": {
        "id": "II947uz8Qhko"
      },
      "source": [
        "# **EXPERIMENT 4**"
      ]
    },
    {
      "cell_type": "code",
      "execution_count": null,
      "metadata": {
        "id": "Ddq60k9VDQvE"
      },
      "outputs": [],
      "source": [
        "import torch\n",
        "import torch.nn as nn\n",
        "import torchvision.transforms as transforms\n",
        "import torchvision.datasets as dsets"
      ]
    },
    {
      "cell_type": "code",
      "execution_count": null,
      "metadata": {
        "colab": {
          "base_uri": "https://localhost:8080/",
          "height": 423,
          "referenced_widgets": [
            "ab99720c0ac14753ad39aa998761deb2",
            "aaecfd77efc546a1a9bf694450009e80",
            "38ce9f16927f467b81739521558b601b",
            "679773f3de0346be9d0a5e22064ed12c"
          ]
        },
        "id": "cCz1RYF9DZoq",
        "outputId": "cab17018-9f3f-4593-8973-531e36263300"
      },
      "outputs": [
        {
          "name": "stdout",
          "output_type": "stream",
          "text": [
            "Downloading http://yann.lecun.com/exdb/mnist/train-images-idx3-ubyte.gz\n",
            "Downloading http://yann.lecun.com/exdb/mnist/train-images-idx3-ubyte.gz to ./data/MNIST/raw/train-images-idx3-ubyte.gz\n"
          ]
        },
        {
          "data": {
            "application/vnd.jupyter.widget-view+json": {
              "model_id": "ab99720c0ac14753ad39aa998761deb2",
              "version_major": 2,
              "version_minor": 0
            },
            "text/plain": [
              "  0%|          | 0/9912422 [00:00<?, ?it/s]"
            ]
          },
          "metadata": {},
          "output_type": "display_data"
        },
        {
          "name": "stdout",
          "output_type": "stream",
          "text": [
            "Extracting ./data/MNIST/raw/train-images-idx3-ubyte.gz to ./data/MNIST/raw\n",
            "\n",
            "Downloading http://yann.lecun.com/exdb/mnist/train-labels-idx1-ubyte.gz\n",
            "Downloading http://yann.lecun.com/exdb/mnist/train-labels-idx1-ubyte.gz to ./data/MNIST/raw/train-labels-idx1-ubyte.gz\n"
          ]
        },
        {
          "data": {
            "application/vnd.jupyter.widget-view+json": {
              "model_id": "aaecfd77efc546a1a9bf694450009e80",
              "version_major": 2,
              "version_minor": 0
            },
            "text/plain": [
              "  0%|          | 0/28881 [00:00<?, ?it/s]"
            ]
          },
          "metadata": {},
          "output_type": "display_data"
        },
        {
          "name": "stdout",
          "output_type": "stream",
          "text": [
            "Extracting ./data/MNIST/raw/train-labels-idx1-ubyte.gz to ./data/MNIST/raw\n",
            "\n",
            "Downloading http://yann.lecun.com/exdb/mnist/t10k-images-idx3-ubyte.gz\n",
            "Downloading http://yann.lecun.com/exdb/mnist/t10k-images-idx3-ubyte.gz to ./data/MNIST/raw/t10k-images-idx3-ubyte.gz\n"
          ]
        },
        {
          "data": {
            "application/vnd.jupyter.widget-view+json": {
              "model_id": "38ce9f16927f467b81739521558b601b",
              "version_major": 2,
              "version_minor": 0
            },
            "text/plain": [
              "  0%|          | 0/1648877 [00:00<?, ?it/s]"
            ]
          },
          "metadata": {},
          "output_type": "display_data"
        },
        {
          "name": "stdout",
          "output_type": "stream",
          "text": [
            "Extracting ./data/MNIST/raw/t10k-images-idx3-ubyte.gz to ./data/MNIST/raw\n",
            "\n",
            "Downloading http://yann.lecun.com/exdb/mnist/t10k-labels-idx1-ubyte.gz\n",
            "Downloading http://yann.lecun.com/exdb/mnist/t10k-labels-idx1-ubyte.gz to ./data/MNIST/raw/t10k-labels-idx1-ubyte.gz\n"
          ]
        },
        {
          "data": {
            "application/vnd.jupyter.widget-view+json": {
              "model_id": "679773f3de0346be9d0a5e22064ed12c",
              "version_major": 2,
              "version_minor": 0
            },
            "text/plain": [
              "  0%|          | 0/4542 [00:00<?, ?it/s]"
            ]
          },
          "metadata": {},
          "output_type": "display_data"
        },
        {
          "name": "stdout",
          "output_type": "stream",
          "text": [
            "Extracting ./data/MNIST/raw/t10k-labels-idx1-ubyte.gz to ./data/MNIST/raw\n",
            "\n"
          ]
        }
      ],
      "source": [
        "# LOADING DATASET\n",
        "\n",
        "train_dataset = dsets.MNIST(root='./data', \n",
        "                            train=True, \n",
        "                            transform=transforms.ToTensor(),\n",
        "                            download=True)\n",
        "\n",
        "test_dataset = dsets.MNIST(root='./data', \n",
        "                           train=False, \n",
        "                           transform=transforms.ToTensor())"
      ]
    },
    {
      "cell_type": "code",
      "execution_count": null,
      "metadata": {
        "colab": {
          "base_uri": "https://localhost:8080/"
        },
        "id": "BcVTpc4yDdpz",
        "outputId": "c1fd6ba5-8805-4cfb-b1f4-978250b17915"
      },
      "outputs": [
        {
          "data": {
            "text/plain": [
              "60000"
            ]
          },
          "execution_count": 3,
          "metadata": {},
          "output_type": "execute_result"
        }
      ],
      "source": [
        "len(train_dataset)"
      ]
    },
    {
      "cell_type": "code",
      "execution_count": null,
      "metadata": {
        "id": "8eYCEHZ8DiIC"
      },
      "outputs": [],
      "source": [
        "train_dataset[0]"
      ]
    },
    {
      "cell_type": "code",
      "execution_count": null,
      "metadata": {
        "colab": {
          "base_uri": "https://localhost:8080/"
        },
        "id": "UJTVJV3nDlRG",
        "outputId": "23ce096a-8b00-408f-9e23-8c84edee348b"
      },
      "outputs": [
        {
          "data": {
            "text/plain": [
              "tuple"
            ]
          },
          "execution_count": 4,
          "metadata": {},
          "output_type": "execute_result"
        }
      ],
      "source": [
        "type(train_dataset[0])"
      ]
    },
    {
      "cell_type": "code",
      "execution_count": null,
      "metadata": {
        "colab": {
          "base_uri": "https://localhost:8080/"
        },
        "id": "PVq70Ti0Dqdi",
        "outputId": "81518baf-5854-4276-c197-d1198d92062a"
      },
      "outputs": [
        {
          "data": {
            "text/plain": [
              "torch.Size([1, 28, 28])"
            ]
          },
          "execution_count": 5,
          "metadata": {},
          "output_type": "execute_result"
        }
      ],
      "source": [
        "# Input Matrix\n",
        "train_dataset[0][0].size()"
      ]
    },
    {
      "cell_type": "code",
      "execution_count": null,
      "metadata": {
        "id": "iGgTKDGSDwth"
      },
      "outputs": [],
      "source": [
        "import matplotlib.pyplot as plt\n",
        "%matplotlib inline  \n",
        "import numpy as np"
      ]
    },
    {
      "cell_type": "code",
      "execution_count": null,
      "metadata": {
        "colab": {
          "base_uri": "https://localhost:8080/"
        },
        "id": "R_TgDOm_Dyru",
        "outputId": "ec551a15-d641-4a90-b8ed-22691a9eb581"
      },
      "outputs": [
        {
          "data": {
            "text/plain": [
              "(1, 28, 28)"
            ]
          },
          "execution_count": 7,
          "metadata": {},
          "output_type": "execute_result"
        }
      ],
      "source": [
        "train_dataset[0][0].numpy().shape"
      ]
    },
    {
      "cell_type": "code",
      "execution_count": null,
      "metadata": {
        "colab": {
          "base_uri": "https://localhost:8080/",
          "height": 282
        },
        "id": "jTeZ_OWAD4en",
        "outputId": "71f6361f-d7e2-468a-b715-7960fa46e152"
      },
      "outputs": [
        {
          "data": {
            "text/plain": [
              "5"
            ]
          },
          "execution_count": 8,
          "metadata": {},
          "output_type": "execute_result"
        },
        {
          "data": {
            "image/png": "[encoded data removed]",
            "text/plain": [
              "<Figure size 432x288 with 1 Axes>"
            ]
          },
          "metadata": {},
          "output_type": "display_data"
        }
      ],
      "source": [
        "# plot image of MNIST image\n",
        "show_img = train_dataset[0][0].numpy().reshape(28, 28)\n",
        "plt.imshow(show_img, cmap='pink')\n",
        "# Label\n",
        "train_dataset[0][1]"
      ]
    },
    {
      "cell_type": "code",
      "execution_count": null,
      "metadata": {
        "colab": {
          "base_uri": "https://localhost:8080/",
          "height": 282
        },
        "id": "cGfb0Y51EFfo",
        "outputId": "760bd52d-fc3f-451e-d40e-a3d9fabe80a6"
      },
      "outputs": [
        {
          "data": {
            "text/plain": [
              "<matplotlib.image.AxesImage at 0x7f732cb198d0>"
            ]
          },
          "execution_count": 9,
          "metadata": {},
          "output_type": "execute_result"
        },
        {
          "data": {
            "image/png": "[encoded data removed]",
            "text/plain": [
              "<Figure size 432x288 with 1 Axes>"
            ]
          },
          "metadata": {},
          "output_type": "display_data"
        }
      ],
      "source": [
        "show_img = train_dataset[1][0].numpy().reshape(28, 28)\n",
        "\n",
        "plt.imshow(show_img, cmap='pink')"
      ]
    },
    {
      "cell_type": "code",
      "execution_count": null,
      "metadata": {
        "colab": {
          "base_uri": "https://localhost:8080/"
        },
        "id": "DhV-pzutEJkd",
        "outputId": "ac967479-bb31-49eb-a8f7-6f89477179ae"
      },
      "outputs": [
        {
          "data": {
            "text/plain": [
              "0"
            ]
          },
          "execution_count": 11,
          "metadata": {},
          "output_type": "execute_result"
        }
      ],
      "source": [
        "# Label\n",
        "train_dataset[1][1]"
      ]
    },
    {
      "cell_type": "code",
      "execution_count": null,
      "metadata": {
        "id": "Zp3l3p03EW1W"
      },
      "outputs": [],
      "source": []
    },
    {
      "cell_type": "code",
      "execution_count": null,
      "metadata": {
        "id": "XGLECWwIENXK"
      },
      "outputs": [],
      "source": [
        "#Loading MNIST Test Dataset\n",
        "test_dataset = dsets.MNIST(root='./data', \n",
        "                           train=False, \n",
        "                           transform=transforms.ToTensor())"
      ]
    },
    {
      "cell_type": "code",
      "execution_count": null,
      "metadata": {
        "colab": {
          "base_uri": "https://localhost:8080/"
        },
        "id": "gRPAOz_EEbQR",
        "outputId": "dff2c47b-23bc-409b-8092-43a87bcd6258"
      },
      "outputs": [
        {
          "data": {
            "text/plain": [
              "10000"
            ]
          },
          "execution_count": 12,
          "metadata": {},
          "output_type": "execute_result"
        }
      ],
      "source": [
        "len(test_dataset)"
      ]
    },
    {
      "cell_type": "code",
      "execution_count": null,
      "metadata": {
        "colab": {
          "base_uri": "https://localhost:8080/"
        },
        "id": "HsdgPksmEf7g",
        "outputId": "ebbc117a-f7c6-4b9f-9da8-238779cc7765"
      },
      "outputs": [
        {
          "data": {
            "text/plain": [
              "torch.Size([1, 28, 28])"
            ]
          },
          "execution_count": 13,
          "metadata": {},
          "output_type": "execute_result"
        }
      ],
      "source": [
        "# Image matrix\n",
        "test_dataset[0][0].size()"
      ]
    },
    {
      "cell_type": "code",
      "execution_count": null,
      "metadata": {
        "colab": {
          "base_uri": "https://localhost:8080/",
          "height": 282
        },
        "id": "U3a_BHjEEhmM",
        "outputId": "4af42dae-c5ea-44e7-f27a-3c702fa26134"
      },
      "outputs": [
        {
          "data": {
            "text/plain": [
              "<matplotlib.image.AxesImage at 0x7f732c69e990>"
            ]
          },
          "execution_count": 14,
          "metadata": {},
          "output_type": "execute_result"
        },
        {
          "data": {
            "image/png": "[encoded data removed]",
            "text/plain": [
              "<Figure size 432x288 with 1 Axes>"
            ]
          },
          "metadata": {},
          "output_type": "display_data"
        }
      ],
      "source": [
        "show_img = test_dataset[0][0].numpy().reshape(28, 28)\n",
        "plt.imshow(show_img, cmap='pink')"
      ]
    },
    {
      "cell_type": "code",
      "execution_count": null,
      "metadata": {
        "colab": {
          "base_uri": "https://localhost:8080/"
        },
        "id": "Xj4DMIUKEvin",
        "outputId": "9f6742c3-e810-456e-b58c-9ab415bf235f"
      },
      "outputs": [
        {
          "data": {
            "text/plain": [
              "7"
            ]
          },
          "execution_count": 15,
          "metadata": {},
          "output_type": "execute_result"
        }
      ],
      "source": [
        "test_dataset[0][1]"
      ]
    },
    {
      "cell_type": "code",
      "execution_count": null,
      "metadata": {
        "colab": {
          "base_uri": "https://localhost:8080/"
        },
        "id": "5ByquHqnEyEq",
        "outputId": "b9db5378-6895-4759-a602-bda03a4ae448"
      },
      "outputs": [
        {
          "data": {
            "text/plain": [
              "60000"
            ]
          },
          "execution_count": 16,
          "metadata": {},
          "output_type": "execute_result"
        }
      ],
      "source": [
        "len(train_dataset)"
      ]
    },
    {
      "cell_type": "code",
      "execution_count": null,
      "metadata": {
        "colab": {
          "base_uri": "https://localhost:8080/"
        },
        "id": "pcuzfmD8E2IN",
        "outputId": "6f170333-8cbe-4c6e-aa87-7c45bb44aeb1"
      },
      "outputs": [
        {
          "data": {
            "text/plain": [
              "5"
            ]
          },
          "execution_count": 17,
          "metadata": {},
          "output_type": "execute_result"
        }
      ],
      "source": [
        "#Epochs\n",
        "batch_size = 100\n",
        "n_iters = 3000\n",
        "num_epochs = n_iters / (len(train_dataset) / batch_size)\n",
        "num_epochs = int(num_epochs)\n",
        "num_epochs"
      ]
    },
    {
      "cell_type": "code",
      "execution_count": null,
      "metadata": {
        "id": "7kZi84UCE93c"
      },
      "outputs": [],
      "source": [
        "# Training Dataset\n",
        "train_loader = torch.utils.data.DataLoader(dataset=train_dataset, \n",
        "                                           batch_size=batch_size, \n",
        "                                           shuffle=True)"
      ]
    },
    {
      "cell_type": "code",
      "execution_count": null,
      "metadata": {
        "id": "uHAYtxcGFFBC"
      },
      "outputs": [],
      "source": [
        "# Iterable object\n",
        "test_loader = torch.utils.data.DataLoader(dataset=test_dataset, \n",
        "                                          batch_size=batch_size, \n",
        "                                          shuffle=False)\n",
        "img_1 = np.ones((28, 28))\n",
        "img_2 = np.ones((28, 28))\n",
        "lst = [img_1, img_2]\n"
      ]
    },
    {
      "cell_type": "code",
      "execution_count": null,
      "metadata": {
        "id": "fyOj3-oeFI93"
      },
      "outputs": [],
      "source": [
        "# Same as linear regression! \n",
        "class LogisticRegressionModel(nn.Module):\n",
        "    def __init__(self, input_dim, output_dim):\n",
        "        super(LogisticRegressionModel, self).__init__()\n",
        "        self.linear = nn.Linear(input_dim, output_dim)\n",
        "\n",
        "    def forward(self, x):\n",
        "        out = self.linear(x)\n",
        "        return out"
      ]
    },
    {
      "cell_type": "code",
      "execution_count": null,
      "metadata": {
        "colab": {
          "base_uri": "https://localhost:8080/"
        },
        "id": "M0gY5nxZFKoR",
        "outputId": "e989b88f-bd7b-4c20-f4cd-746db97ed56f"
      },
      "outputs": [
        {
          "data": {
            "text/plain": [
              "torch.Size([1, 28, 28])"
            ]
          },
          "execution_count": 21,
          "metadata": {},
          "output_type": "execute_result"
        }
      ],
      "source": [
        "# Size of images\n",
        "train_dataset[0][0].size()"
      ]
    },
    {
      "cell_type": "code",
      "execution_count": null,
      "metadata": {
        "id": "9WQrSlPFFTgH"
      },
      "outputs": [],
      "source": [
        "input_dim = 28*28\n",
        "output_dim = 10\n",
        "\n",
        "model = LogisticRegressionModel(input_dim, output_dim)"
      ]
    },
    {
      "cell_type": "code",
      "execution_count": null,
      "metadata": {
        "id": "FXTBpyB9FVJd"
      },
      "outputs": [],
      "source": [
        "criterion = nn.CrossEntropyLoss()  "
      ]
    },
    {
      "cell_type": "code",
      "execution_count": null,
      "metadata": {
        "colab": {
          "base_uri": "https://localhost:8080/"
        },
        "id": "VpCgb5gxFZDs",
        "outputId": "5371ec11-2ea3-4430-cd08-ce0a04509735"
      },
      "outputs": [
        {
          "name": "stdout",
          "output_type": "stream",
          "text": [
            "<generator object Module.parameters at 0x7f732c130950>\n",
            "2\n",
            "torch.Size([10, 784])\n",
            "torch.Size([10])\n"
          ]
        }
      ],
      "source": [
        "learning_rate = 0.001\n",
        "\n",
        "optimizer = torch.optim.SGD(model.parameters(), lr=learning_rate)  \n",
        "# Type of parameter object\n",
        "print(model.parameters())\n",
        "\n",
        "# Length of parameters \n",
        "print(len(list(model.parameters())))\n",
        "\n",
        "# FC 1 Parameters \n",
        "print(list(model.parameters())[0].size())\n",
        "\n",
        "# FC 1 Bias Parameters\n",
        "print(list(model.parameters())[1].size())"
      ]
    },
    {
      "cell_type": "code",
      "execution_count": null,
      "metadata": {
        "colab": {
          "base_uri": "https://localhost:8080/"
        },
        "id": "O55PmTS0Fdv8",
        "outputId": "04a2e3b8-c786-4cff-b91f-a93e40d7fe66"
      },
      "outputs": [
        {
          "name": "stdout",
          "output_type": "stream",
          "text": [
            "Iteration: 50. Loss: 2.2776029109954834. Accuracy: 23.600000381469727\n",
            "Iteration: 100. Loss: 2.1681032180786133. Accuracy: 29.690000534057617\n",
            "Iteration: 150. Loss: 2.0879557132720947. Accuracy: 36.75\n",
            "Iteration: 200. Loss: 2.1099560260772705. Accuracy: 44.720001220703125\n",
            "Iteration: 250. Loss: 2.058457136154175. Accuracy: 49.68000030517578\n",
            "Iteration: 300. Loss: 1.9882885217666626. Accuracy: 54.540000915527344\n",
            "Iteration: 350. Loss: 1.9628139734268188. Accuracy: 58.470001220703125\n",
            "Iteration: 400. Loss: 1.888024926185608. Accuracy: 61.08000183105469\n",
            "Iteration: 450. Loss: 1.8743160963058472. Accuracy: 63.810001373291016\n",
            "Iteration: 500. Loss: 1.8470971584320068. Accuracy: 65.83999633789062\n",
            "Iteration: 550. Loss: 1.759702205657959. Accuracy: 67.56999969482422\n",
            "Iteration: 600. Loss: 1.7716691493988037. Accuracy: 68.54000091552734\n",
            "Iteration: 650. Loss: 1.7145787477493286. Accuracy: 69.62000274658203\n",
            "Iteration: 700. Loss: 1.7381020784378052. Accuracy: 70.41999816894531\n",
            "Iteration: 750. Loss: 1.6246559619903564. Accuracy: 71.29000091552734\n",
            "Iteration: 800. Loss: 1.5914040803909302. Accuracy: 72.08999633789062\n",
            "Iteration: 850. Loss: 1.6359707117080688. Accuracy: 72.88999938964844\n",
            "Iteration: 900. Loss: 1.6366713047027588. Accuracy: 73.6500015258789\n",
            "Iteration: 950. Loss: 1.6511112451553345. Accuracy: 74.30999755859375\n",
            "Iteration: 1000. Loss: 1.4975159168243408. Accuracy: 74.68000030517578\n",
            "Iteration: 1050. Loss: 1.4645648002624512. Accuracy: 75.11000061035156\n",
            "Iteration: 1100. Loss: 1.4661539793014526. Accuracy: 75.5\n",
            "Iteration: 1150. Loss: 1.4658715724945068. Accuracy: 75.98999786376953\n",
            "Iteration: 1200. Loss: 1.4544568061828613. Accuracy: 76.54000091552734\n",
            "Iteration: 1250. Loss: 1.4168912172317505. Accuracy: 77.0\n",
            "Iteration: 1300. Loss: 1.3876419067382812. Accuracy: 77.20999908447266\n",
            "Iteration: 1350. Loss: 1.410394549369812. Accuracy: 77.41000366210938\n",
            "Iteration: 1400. Loss: 1.3677514791488647. Accuracy: 77.76000213623047\n",
            "Iteration: 1450. Loss: 1.3637396097183228. Accuracy: 78.36000061035156\n",
            "Iteration: 1500. Loss: 1.418877124786377. Accuracy: 78.62000274658203\n",
            "Iteration: 1550. Loss: 1.3577003479003906. Accuracy: 79.0\n",
            "Iteration: 1600. Loss: 1.3575564622879028. Accuracy: 79.2699966430664\n",
            "Iteration: 1650. Loss: 1.3439624309539795. Accuracy: 79.29000091552734\n",
            "Iteration: 1700. Loss: 1.332247018814087. Accuracy: 79.58000183105469\n",
            "Iteration: 1750. Loss: 1.2795497179031372. Accuracy: 79.79000091552734\n",
            "Iteration: 1800. Loss: 1.2276217937469482. Accuracy: 80.12000274658203\n",
            "Iteration: 1850. Loss: 1.2378607988357544. Accuracy: 80.2699966430664\n",
            "Iteration: 1900. Loss: 1.296730399131775. Accuracy: 80.4000015258789\n",
            "Iteration: 1950. Loss: 1.191282033920288. Accuracy: 80.66999816894531\n",
            "Iteration: 2000. Loss: 1.2134164571762085. Accuracy: 80.81999969482422\n",
            "Iteration: 2050. Loss: 1.1491843461990356. Accuracy: 81.04000091552734\n",
            "Iteration: 2100. Loss: 1.2521514892578125. Accuracy: 81.2699966430664\n",
            "Iteration: 2150. Loss: 1.1998159885406494. Accuracy: 81.33000183105469\n",
            "Iteration: 2200. Loss: 1.2795441150665283. Accuracy: 81.38999938964844\n",
            "Iteration: 2250. Loss: 1.1101717948913574. Accuracy: 81.33000183105469\n",
            "Iteration: 2300. Loss: 1.0750566720962524. Accuracy: 81.47000122070312\n",
            "Iteration: 2350. Loss: 1.1189680099487305. Accuracy: 81.55999755859375\n",
            "Iteration: 2400. Loss: 1.0214307308197021. Accuracy: 81.72000122070312\n",
            "Iteration: 2450. Loss: 1.0999882221221924. Accuracy: 81.76000213623047\n",
            "Iteration: 2500. Loss: 1.0628235340118408. Accuracy: 81.83999633789062\n",
            "Iteration: 2550. Loss: 1.0257930755615234. Accuracy: 81.98999786376953\n",
            "Iteration: 2600. Loss: 1.086173415184021. Accuracy: 82.05000305175781\n",
            "Iteration: 2650. Loss: 1.019424319267273. Accuracy: 82.0999984741211\n",
            "Iteration: 2700. Loss: 1.089759111404419. Accuracy: 82.25\n",
            "Iteration: 2750. Loss: 0.9142230749130249. Accuracy: 82.30999755859375\n",
            "Iteration: 2800. Loss: 1.0893338918685913. Accuracy: 82.44000244140625\n",
            "Iteration: 2850. Loss: 1.0554348230361938. Accuracy: 82.56999969482422\n",
            "Iteration: 2900. Loss: 0.8900280594825745. Accuracy: 82.5999984741211\n",
            "Iteration: 2950. Loss: 0.9384457468986511. Accuracy: 82.68000030517578\n",
            "Iteration: 3000. Loss: 1.019450306892395. Accuracy: 82.62999725341797\n"
          ]
        }
      ],
      "source": [
        "iter = 0\n",
        "for epoch in range(num_epochs):\n",
        "    for i, (images, labels) in enumerate(train_loader):\n",
        "        # Load images as Variable\n",
        "        images = images.view(-1, 28*28).requires_grad_()\n",
        "        labels = labels\n",
        "\n",
        "        # Clear gradients w.r.t. parameters\n",
        "        optimizer.zero_grad()\n",
        "\n",
        "        # Forward pass to get output/logits\n",
        "        outputs = model(images)\n",
        "\n",
        "        # Calculate Loss: softmax --> cross entropy loss\n",
        "        loss = criterion(outputs, labels)\n",
        "\n",
        "        # Getting gradients w.r.t. parameters\n",
        "        loss.backward()\n",
        "\n",
        "        # Updating parameters\n",
        "        optimizer.step()\n",
        "\n",
        "        iter += 1\n",
        "\n",
        "        if iter % 50 == 0:\n",
        "            # Calculate Accuracy         \n",
        "            correct = 0\n",
        "            total = 0\n",
        "            # Iterate through test dataset\n",
        "            for images, labels in test_loader:\n",
        "                # Load images to a Torch Variable\n",
        "                images = images.view(-1, 28*28).requires_grad_()\n",
        "\n",
        "                # Forward pass only to get logits/output\n",
        "                outputs = model(images)\n",
        "\n",
        "                # Get predictions from the maximum value\n",
        "                _, predicted = torch.max(outputs.data, 1)\n",
        "\n",
        "                # Total number of labels\n",
        "                total += labels.size(0)\n",
        "\n",
        "                # Total correct predictions\n",
        "                correct += (predicted == labels).sum()\n",
        "\n",
        "            accuracy = 100 * correct / total\n",
        "\n",
        "            # Print Loss\n",
        "            print('Iteration: {}. Loss: {}. Accuracy: {}'.format(iter, loss.item(), accuracy))"
      ]
    },
    {
      "cell_type": "code",
      "execution_count": null,
      "metadata": {
        "colab": {
          "base_uri": "https://localhost:8080/"
        },
        "id": "NFbx5XAvX592",
        "outputId": "011e4973-610a-42a0-8333-1463c7527d89"
      },
      "outputs": [
        {
          "name": "stdout",
          "output_type": "stream",
          "text": [
            "OUTPUTS\n",
            "tensor([[-2.9773e-01, -1.2789e+00, -2.9678e-01, -5.9702e-02,  5.4761e-02,\n",
            "         -4.8911e-01, -1.2526e+00,  2.9037e+00, -2.9954e-01,  9.4135e-01],\n",
            "        [ 4.9386e-01,  9.9311e-02,  1.5034e+00,  1.1037e+00, -1.5913e+00,\n",
            "          6.9383e-01,  1.0370e+00, -1.8431e+00,  4.5231e-01, -1.2181e+00],\n",
            "        [-9.6952e-01,  2.3252e+00,  3.0881e-01,  2.5781e-02, -6.5739e-01,\n",
            "         -2.5810e-01, -2.1997e-01, -8.1472e-02,  2.0453e-01, -4.5794e-01],\n",
            "        [ 3.0340e+00, -2.2333e+00, -6.6620e-02, -3.2291e-01, -9.5747e-01,\n",
            "          5.6449e-01,  1.0160e+00,  4.9546e-01, -4.8597e-01, -1.4857e-01],\n",
            "        [ 7.3077e-02, -2.0876e+00,  5.0679e-01, -7.7553e-01,  1.7252e+00,\n",
            "         -2.0075e-01,  1.9720e-01,  2.7617e-01,  1.4703e-02,  7.9522e-01],\n",
            "        [-1.3797e+00,  2.8877e+00,  2.2887e-01,  1.4964e-01, -7.0382e-01,\n",
            "         -3.1995e-01, -6.9371e-01,  3.7375e-02,  4.2474e-01, -1.6534e-01],\n",
            "        [-1.2959e+00, -1.1962e+00, -6.1921e-01,  3.9361e-01,  1.4597e+00,\n",
            "          1.7101e-01, -5.2542e-01,  6.9240e-01,  3.9081e-01,  9.9611e-01],\n",
            "        [-1.5943e+00, -5.2955e-01, -5.2133e-01, -2.5011e-01,  6.6743e-01,\n",
            "          2.2635e-01,  2.0083e-01, -5.4488e-02,  9.6101e-02,  1.2371e+00],\n",
            "        [ 3.0420e-01, -1.9181e-01,  8.1231e-01, -1.5094e+00,  7.4126e-01,\n",
            "          3.9038e-01,  1.0851e+00, -9.2197e-01,  1.7938e-01,  1.2487e-01],\n",
            "        [-7.1526e-01, -9.2249e-01, -1.2137e+00, -9.4251e-01,  1.1654e+00,\n",
            "         -1.2846e-01, -5.5578e-01,  1.8552e+00, -2.1369e-03,  1.6934e+00],\n",
            "        [ 3.3536e+00, -1.7425e+00,  6.3273e-01,  7.5568e-01, -9.9963e-01,\n",
            "          1.1196e+00, -4.8962e-01, -1.2430e+00,  5.5577e-01, -1.5317e+00],\n",
            "        [ 8.1102e-01, -5.0163e-01,  6.9104e-01, -2.5443e-01,  1.6159e-01,\n",
            "         -2.7174e-01,  6.3405e-01, -1.0570e+00,  1.9511e-01, -1.8793e-01],\n",
            "        [-7.2812e-01, -1.6359e+00, -9.2387e-01, -9.5607e-01,  1.5614e+00,\n",
            "         -2.5585e-01, -4.0244e-01,  1.1958e+00,  2.6176e-01,  2.0018e+00],\n",
            "        [ 2.9358e+00, -2.1677e+00, -2.9985e-01, -3.9185e-01, -5.7772e-01,\n",
            "          6.1063e-01, -5.1185e-01, -4.5749e-01,  6.7145e-01,  1.5470e-01],\n",
            "        [-1.4353e+00,  2.7751e+00,  5.1157e-02,  3.7042e-01, -1.0433e+00,\n",
            "         -4.5941e-02,  3.5653e-02, -1.4887e-01,  4.6687e-01, -2.7407e-01],\n",
            "        [ 6.0527e-01, -8.4954e-01, -1.3214e-01,  1.2712e+00, -4.0209e-01,\n",
            "          9.0224e-01, -2.9153e-01, -2.8593e-01,  5.5304e-01, -6.6562e-01],\n",
            "        [-1.8885e-01, -1.9567e+00,  5.1045e-04, -8.4139e-01,  1.3840e+00,\n",
            "         -5.8390e-01, -1.2556e-01,  8.3845e-01,  1.7210e-01,  1.6414e+00],\n",
            "        [ 3.0043e-01, -1.4974e+00, -4.3844e-01,  4.6283e-01, -8.0505e-03,\n",
            "         -4.3350e-01, -8.2974e-01,  2.6883e+00, -4.8417e-01,  6.5549e-01],\n",
            "        [-8.6443e-01, -5.7203e-01,  3.1695e-01,  1.2471e+00, -1.4758e-01,\n",
            "          3.5549e-01,  7.7406e-01, -4.1911e-01,  1.7298e-01, -2.5540e-01],\n",
            "        [-9.6605e-01, -1.5658e+00, -4.4751e-01, -2.6020e-01,  1.9717e+00,\n",
            "          1.4890e-01,  6.3571e-02,  2.2038e-01,  5.3318e-02,  1.3513e+00],\n",
            "        [-9.8875e-01, -4.0394e-01, -1.2299e+00,  1.4175e-01,  5.0829e-01,\n",
            "          8.9322e-02, -1.4540e+00,  1.8080e+00,  2.2961e-01,  1.5376e+00],\n",
            "        [-6.3276e-01, -1.4041e+00, -4.0097e-02,  4.6542e-01,  2.8098e-01,\n",
            "          5.6649e-01,  2.2836e+00, -1.3002e+00,  2.5135e-01,  1.1010e-01],\n",
            "        [-4.8542e-01,  3.9387e-01,  4.2452e-01, -7.6389e-01,  9.2840e-01,\n",
            "         -8.0168e-01,  1.3170e+00, -2.7926e-02, -2.1568e-01,  1.1330e-01],\n",
            "        [ 4.4443e-02, -9.0971e-01, -7.5110e-01,  3.0754e-01,  8.1507e-02,\n",
            "          1.2966e+00,  4.2402e-01, -9.9359e-01,  9.4294e-01,  7.4176e-02],\n",
            "        [-4.9589e-01, -1.1239e+00,  1.7437e-01, -2.6361e-01,  1.2877e+00,\n",
            "          1.5247e-02, -8.1353e-02,  3.5357e-01, -2.0158e-01,  1.1042e+00],\n",
            "        [ 4.3746e+00, -2.4132e+00,  8.1512e-01, -1.1755e+00, -3.1893e-01,\n",
            "          1.2894e+00,  1.0548e+00, -8.9352e-01,  9.8763e-03, -1.1288e+00],\n",
            "        [-1.5446e-01, -1.4928e+00, -6.3317e-01,  3.6955e-02,  3.7264e-01,\n",
            "         -1.9962e-01, -7.5944e-01,  1.7541e+00, -4.0304e-01,  1.1629e+00],\n",
            "        [-4.3015e-01, -2.3016e+00, -4.0637e-01, -7.3555e-01,  2.3860e+00,\n",
            "          9.9577e-02,  7.8646e-02, -1.9187e-01,  2.2566e-01,  1.4399e+00],\n",
            "        [ 2.7162e+00, -2.1945e+00, -4.2161e-02,  1.0951e+00, -1.1626e+00,\n",
            "          5.9534e-01, -5.2059e-01, -4.4060e-01,  7.5124e-01, -5.5120e-01],\n",
            "        [-1.1642e+00,  1.5248e+00, -1.9401e-01,  2.2751e-01, -4.0988e-01,\n",
            "          2.7078e-01,  2.7267e-01, -3.7346e-01,  4.5807e-01, -2.2561e-01],\n",
            "        [-7.3237e-01, -1.9782e-01, -9.3864e-01,  2.2084e+00, -1.1181e+00,\n",
            "          8.2927e-01, -1.9318e-01,  3.7166e-01,  9.5672e-02,  1.0334e-02],\n",
            "        [-1.1395e+00,  1.1746e+00, -2.6122e-01,  2.5421e-01, -1.5751e-01,\n",
            "          1.3685e-01, -4.6979e-02, -3.0772e-04,  3.7229e-01,  1.5310e-01],\n",
            "        [-9.5033e-01, -7.6479e-01, -4.9072e-01,  2.3485e+00, -3.7752e-01,\n",
            "          1.0343e+00, -4.6403e-01, -9.5487e-01,  5.4748e-01, -9.0138e-03],\n",
            "        [ 1.8128e+00, -1.5103e+00,  8.7740e-01, -1.7408e+00,  5.9785e-01,\n",
            "          1.7160e-01,  1.6408e+00, -1.0195e+00, -1.8728e-01, -4.0940e-01],\n",
            "        [-7.4499e-01, -3.9131e-01,  6.9764e-01, -9.0750e-02, -3.1448e-02,\n",
            "         -4.3420e-01, -1.4022e+00,  1.7003e+00,  4.8276e-01,  5.1734e-01],\n",
            "        [ 6.3366e-01, -1.1882e+00,  2.6393e+00,  2.9820e-01, -7.4665e-01,\n",
            "          2.8069e-01,  3.8791e-01, -3.9341e-01,  2.9285e-01, -1.5445e+00],\n",
            "        [-2.8439e-01, -1.5909e+00, -2.8752e-02, -9.9368e-05,  6.9547e-02,\n",
            "         -2.9496e-01, -4.9796e-01,  2.1975e+00, -2.8192e-01,  1.2250e+00],\n",
            "        [-1.4757e+00,  2.1587e+00, -3.2569e-01,  3.4735e-03, -4.8637e-01,\n",
            "          6.5695e-02, -2.1279e-02, -3.7602e-02,  5.8105e-01, -4.8703e-02],\n",
            "        [ 4.9974e-01,  6.0750e-01,  7.9453e-01,  1.4979e+00, -1.6115e+00,\n",
            "          2.8335e-01,  6.7981e-01, -1.2115e+00,  6.5776e-01, -1.2488e+00],\n",
            "        [-1.4738e+00,  3.1147e+00, -1.7623e-03,  4.3456e-01, -1.3407e+00,\n",
            "          9.2572e-02, -6.2360e-02, -5.0328e-01,  7.2156e-01, -2.3458e-01],\n",
            "        [-7.9597e-01,  1.7438e+00,  1.1216e-02, -5.6121e-05, -4.5501e-01,\n",
            "         -5.4170e-02,  2.6471e-03, -1.7043e-01,  2.4971e-01, -1.6772e-01],\n",
            "        [-8.2721e-01, -9.0232e-01, -1.3715e-01, -2.9101e-01, -1.4406e-01,\n",
            "         -2.2990e-01, -3.3993e-01,  2.1805e+00, -1.6597e-01,  1.2819e+00],\n",
            "        [-2.1557e+00, -3.3491e-01, -3.3014e-01, -5.2455e-01,  2.2326e+00,\n",
            "         -5.4855e-01, -6.8785e-01,  7.4827e-01,  5.6908e-01,  1.6766e+00],\n",
            "        [-4.0332e-01,  1.1608e+00,  1.1959e+00, -1.7063e-01, -2.6783e-01,\n",
            "         -3.1519e-01,  1.3905e-01, -1.0887e+00,  5.3983e-01, -5.7061e-01],\n",
            "        [-1.0919e+00,  1.6585e-01,  6.4818e-02,  1.3090e+00, -6.8952e-01,\n",
            "          4.0566e-01,  7.0766e-01, -3.2875e-01, -3.0734e-02, -2.7702e-01],\n",
            "        [ 3.2938e-02, -1.1577e+00, -6.2579e-01,  1.6369e+00, -4.9486e-01,\n",
            "          1.4019e+00, -9.2788e-03, -1.3476e+00,  8.6092e-01, -1.5387e-01],\n",
            "        [-1.5644e+00,  1.8475e-01,  1.5528e-01,  7.4367e-01, -9.1002e-02,\n",
            "          4.5284e-01,  2.2667e-01, -2.7360e-01,  2.0740e-01,  1.9291e-01],\n",
            "        [-6.2408e-01, -2.5424e-01,  1.5376e+00, -4.0634e-01,  4.9851e-01,\n",
            "         -4.9528e-01,  5.9296e-01, -2.5492e-01, -4.4030e-02,  2.5963e-01],\n",
            "        [-1.1006e+00, -2.6064e+00, -1.2746e+00,  4.1966e-02,  2.8389e+00,\n",
            "          4.4230e-01, -6.9689e-01,  2.0853e-01,  6.4048e-01,  2.1971e+00],\n",
            "        [-3.2374e-01, -2.0412e+00,  3.3855e-01, -6.2497e-01,  2.2843e+00,\n",
            "         -5.7473e-01,  2.9776e-01,  1.0244e-01, -7.7503e-02,  1.0007e+00],\n",
            "        [ 3.5791e-02, -1.1589e+00,  2.5814e-01,  3.8584e-01, -3.3038e-01,\n",
            "          6.0746e-01,  2.3202e+00, -9.8851e-01,  1.8568e-02, -4.8477e-01],\n",
            "        [-1.1421e-01, -1.0437e+00, -4.3667e-02,  1.8853e+00, -3.7223e-01,\n",
            "          5.5182e-01, -8.4929e-02, -2.6556e-01, -2.6209e-01,  1.4415e-01],\n",
            "        [ 4.9705e-01, -1.1922e+00, -1.3891e+00, -5.2580e-02,  7.0569e-01,\n",
            "          1.1310e+00, -3.1601e-02, -1.5750e-01,  5.8904e-02,  5.5718e-01],\n",
            "        [ 2.8627e-01, -6.9675e-01, -3.9252e-01,  1.0080e+00,  3.8714e-02,\n",
            "          6.1837e-01, -1.0274e-01, -4.7138e-01,  2.3949e-01, -4.0976e-01],\n",
            "        [ 4.7869e-02, -5.6563e-01,  1.5024e+00, -9.6290e-02,  6.2356e-01,\n",
            "         -8.2905e-01,  7.1707e-01, -7.7719e-01, -1.7922e-01, -3.9117e-01],\n",
            "        [ 1.4672e+00, -2.0714e+00, -6.4589e-01,  6.3103e-01, -6.4129e-01,\n",
            "          1.0295e+00,  2.6651e-01, -7.3263e-01,  1.4584e+00, -1.3482e-01],\n",
            "        [ 4.6863e-02, -2.7583e+00, -2.0135e-01, -6.5894e-01,  2.7370e+00,\n",
            "         -2.0225e-02,  5.4477e-01, -4.5377e-01, -9.4667e-02,  8.7863e-01],\n",
            "        [-9.1955e-01,  2.3920e+00,  1.4456e-01,  3.0032e-01, -9.1423e-01,\n",
            "         -2.3749e-01, -5.5988e-01, -3.9101e-02,  3.1366e-01, -1.9848e-01],\n",
            "        [-1.5559e-01, -1.9815e+00, -1.2260e+00, -8.2182e-01,  1.8860e+00,\n",
            "         -2.7205e-01, -2.4656e-01,  9.4267e-01, -1.8360e-01,  2.1156e+00],\n",
            "        [ 2.5409e-01,  3.0611e-01, -5.4453e-01, -3.0204e-01,  1.2749e-01,\n",
            "          1.8192e-01, -1.4840e-01,  5.3846e-01,  1.7142e-01, -2.5694e-01],\n",
            "        [-2.8494e-01, -1.8183e+00, -4.9083e-01,  6.3715e-01,  1.3343e-01,\n",
            "          4.5488e-02, -2.9945e-01,  1.9971e+00, -4.7119e-01,  7.5574e-01],\n",
            "        [ 1.7818e-01, -5.6061e-01,  1.0444e+00, -1.5316e+00, -2.6883e-01,\n",
            "          2.1582e-01,  5.2946e-01, -1.1001e+00,  1.1827e+00,  1.8171e-01],\n",
            "        [-7.3944e-01, -7.5886e-01, -4.3357e-02, -4.8735e-01,  6.9077e-01,\n",
            "          1.3037e-01,  2.1447e-01, -5.1394e-02,  4.9885e-01,  1.0969e+00],\n",
            "        [-7.8293e-01, -1.7563e-01,  1.2011e+00,  8.2373e-01, -1.9212e-01,\n",
            "         -5.9811e-02, -3.6741e-01, -6.5353e-01,  5.0564e-01,  2.9248e-01],\n",
            "        [-7.5717e-01, -9.8194e-01,  3.8257e-01, -5.2424e-01,  1.0207e+00,\n",
            "         -6.4049e-01, -6.5273e-01,  1.4718e+00,  6.7027e-03,  6.8682e-01],\n",
            "        [-1.2870e+00, -7.0513e-01, -5.8593e-01,  4.8805e-01,  6.5296e-01,\n",
            "          4.3489e-01,  1.0450e-01, -2.5632e-01,  5.3771e-01,  8.7692e-01],\n",
            "        [ 5.4239e-01, -1.4774e-01,  8.8537e-01, -2.4326e-01,  3.6312e-01,\n",
            "         -4.9971e-01,  5.9137e-01,  8.3739e-02, -3.0429e-01, -3.0802e-01],\n",
            "        [-4.9094e-01, -1.4111e+00,  4.7831e-01, -1.1023e+00,  2.2940e+00,\n",
            "         -5.5755e-01, -6.5946e-02,  1.6504e-01,  3.3781e-01,  8.1507e-01],\n",
            "        [-1.1699e+00, -3.9032e-01, -3.2561e-01,  2.7552e+00, -4.0622e-01,\n",
            "          7.7796e-01, -6.6396e-01, -7.6782e-01,  1.0373e+00,  1.9389e-01],\n",
            "        [ 2.7448e+00, -1.1364e+00,  5.8223e-01, -6.2544e-01, -1.3867e+00,\n",
            "          5.5156e-01,  3.3320e-01, -4.1340e-01, -3.2410e-01, -4.9235e-01],\n",
            "        [ 3.3851e-01, -1.3876e+00, -5.8475e-01, -8.2287e-03, -2.1473e-01,\n",
            "         -4.5347e-01, -7.7030e-01,  2.8553e+00, -1.8671e-01,  5.3592e-01],\n",
            "        [ 4.4922e+00, -2.5773e+00,  9.2301e-01,  2.8595e-01, -1.1892e+00,\n",
            "          9.3067e-01,  5.7315e-02, -1.5079e+00,  2.0428e-01, -1.3871e+00],\n",
            "        [ 1.7804e+00, -8.8469e-01,  1.8217e+00,  1.2666e+00, -1.1594e+00,\n",
            "          5.0267e-01,  4.3434e-01, -7.3426e-01,  1.9817e-01, -1.6523e+00],\n",
            "        [-1.4574e+00,  7.2390e-01,  1.6636e-01,  2.7727e-01, -6.5121e-01,\n",
            "         -2.1831e-01, -1.0117e+00,  6.7256e-01,  1.1979e+00,  6.7079e-01],\n",
            "        [-1.4758e+00,  2.3999e+00, -3.0320e-01, -2.7842e-02, -8.1846e-01,\n",
            "          1.1332e-01,  7.2637e-02, -1.2340e-01,  7.0688e-01, -1.9765e-01],\n",
            "        [-1.8519e+00,  6.3067e-01, -3.4995e-01, -7.2036e-01,  7.2384e-01,\n",
            "         -2.7126e-01, -6.5898e-01,  1.8482e+00,  5.6243e-01,  8.6002e-01],\n",
            "        [-2.2207e-01,  2.3683e-01, -1.9736e-01,  2.4868e+00, -1.0035e+00,\n",
            "          9.6744e-01, -5.3598e-01, -8.7389e-01,  6.8362e-01, -5.8260e-01],\n",
            "        [-7.1620e-01, -4.3794e-01,  7.7181e-01, -5.0516e-01, -4.2931e-02,\n",
            "         -4.4107e-01, -1.5542e-03,  1.6338e+00, -1.2622e-01,  7.4597e-01],\n",
            "        [-1.6703e+00,  1.0564e+00, -7.1597e-01,  3.4774e-01, -2.6959e-02,\n",
            "          5.5603e-02, -6.3730e-01,  3.2043e-01,  8.5804e-01,  6.2676e-01],\n",
            "        [-4.3063e-01, -8.0545e-01, -5.3568e-01, -8.2294e-01,  5.7158e-02,\n",
            "         -2.2195e-01, -1.2753e+00,  3.5306e+00,  4.4849e-01,  8.0652e-01],\n",
            "        [-6.2009e-01, -1.9852e+00, -8.3802e-01, -2.0763e-01,  9.6552e-01,\n",
            "          4.7816e-01, -1.5060e-01,  1.5769e+00, -4.9708e-01,  1.7489e+00],\n",
            "        [-6.4723e-02, -1.7259e+00,  6.0347e-01, -4.6067e-01,  7.6259e-02,\n",
            "          3.3634e-01,  2.5253e+00, -1.8058e-01, -8.1803e-02,  1.4771e-01],\n",
            "        [-4.1282e-01, -9.8493e-01,  3.8735e+00,  2.6241e-02, -1.6433e-01,\n",
            "         -9.3037e-01,  9.2040e-01, -1.0544e+00,  8.1175e-01, -1.1060e+00],\n",
            "        [-4.8361e-01, -1.8824e+00, -6.3941e-01, -6.9784e-02,  8.4275e-01,\n",
            "         -1.7992e-01, -8.8109e-01,  2.1818e+00, -3.2812e-01,  1.6559e+00],\n",
            "        [-9.6588e-01,  1.9273e-01, -1.1516e-01, -2.9041e-01,  5.5653e-01,\n",
            "          6.6046e-01, -4.4628e-01, -4.9646e-01,  1.1659e+00,  4.6455e-01],\n",
            "        [-1.1027e+00, -2.3975e+00, -8.7195e-01,  2.3484e-01,  3.0262e+00,\n",
            "          1.9533e-01, -1.2844e-01, -6.0288e-01,  3.3509e-01,  1.5919e+00],\n",
            "        [-1.8964e+00,  4.2958e-01, -1.5368e-01, -5.1664e-01, -2.4207e-01,\n",
            "         -7.3740e-01, -1.1690e+00,  3.0852e+00,  3.4810e-01,  1.0612e+00],\n",
            "        [-4.3652e-02, -1.3847e+00, -9.1147e-01,  1.5575e+00, -2.2615e-01,\n",
            "          1.0803e+00,  6.3233e-01, -3.1440e-01, -1.5720e-01,  7.8483e-02],\n",
            "        [ 8.8564e-02, -1.9084e+00,  7.7636e-01, -1.1528e+00,  1.0466e+00,\n",
            "         -4.1730e-01,  2.5441e+00,  1.2280e-01, -4.2904e-01,  5.3285e-01],\n",
            "        [-1.6701e+00,  3.1063e+00,  5.4468e-01,  1.3105e-01, -6.4159e-01,\n",
            "         -2.7006e-01, -2.3677e-01, -2.4162e-01,  5.1015e-01, -4.6466e-01],\n",
            "        [ 3.3376e-01, -6.4754e-01, -1.2512e-01,  2.7807e+00, -1.3204e+00,\n",
            "          9.8265e-01, -1.3334e+00, -3.9819e-01,  9.0317e-01, -3.3257e-01],\n",
            "        [-9.8674e-01, -4.3332e-01,  3.4661e-01, -5.7928e-01,  4.2503e-01,\n",
            "         -4.9214e-02,  2.8057e+00, -1.0072e+00,  2.7767e-01,  2.6095e-01],\n",
            "        [-7.6206e-01,  1.1138e-01, -1.6171e-02, -3.5046e-01,  6.2786e-01,\n",
            "         -1.1910e-01, -1.5228e-01, -1.2741e-01,  6.8735e-01,  6.4112e-01],\n",
            "        [-8.3977e-01, -7.6792e-01, -5.8757e-01,  2.6779e+00, -1.2808e+00,\n",
            "          1.1044e+00, -1.0177e+00,  5.9234e-01,  6.6323e-01,  1.2743e-01],\n",
            "        [-2.1906e+00,  1.9136e+00,  1.3009e-01,  3.0547e-01, -4.5683e-01,\n",
            "          2.3454e-01,  4.8128e-01, -5.3283e-01,  9.0015e-01,  6.8466e-02],\n",
            "        [-1.0360e+00, -2.1872e-01, -2.7030e-01, -1.4538e+00,  2.1871e+00,\n",
            "         -1.6793e-01,  4.5926e-01,  1.5228e-01,  1.8531e-01,  1.4567e+00],\n",
            "        [-1.2005e+00,  5.1596e-01, -2.8351e-01,  3.7841e-01, -2.9053e-02,\n",
            "          2.3484e-01,  5.7093e-02,  2.2906e-03,  3.7705e-01,  2.6453e-01],\n",
            "        [-1.8194e+00,  1.5232e+00, -5.7751e-01,  8.1899e-02, -3.0700e-01,\n",
            "         -1.3637e-01, -7.6680e-02,  8.4196e-01,  2.8740e-01,  5.4600e-01],\n",
            "        [ 9.2324e-01, -1.0175e+00,  9.8213e-01, -6.2691e-01, -4.0658e-01,\n",
            "          5.8884e-01,  1.9599e+00, -7.2204e-01,  1.0949e-01, -7.5392e-01],\n",
            "        [-1.2140e+00, -1.6867e+00, -1.2206e-02, -5.7059e-01,  1.5910e+00,\n",
            "         -7.8706e-01, -2.4661e-01,  7.0698e-01,  7.4321e-02,  2.1409e+00]],\n",
            "       grad_fn=<AddmmBackward0>)\n"
          ]
        }
      ],
      "source": [
        "## Printing outputs of our model\n",
        "\n",
        "iter_test = 0\n",
        "for images, labels in test_loader:\n",
        "    iter_test += 1\n",
        "    images = images.view(-1, 28*28).requires_grad_()\n",
        "    outputs = model(images)\n",
        "    if iter_test == 1:\n",
        "        print('OUTPUTS')\n",
        "        print(outputs)\n",
        "    _, predicted = torch.max(outputs.data, 1)"
      ]
    },
    {
      "cell_type": "markdown",
      "metadata": {
        "id": "_ok1VHSQPDQc"
      },
      "source": [
        "# **EXPERIMENT 5**"
      ]
    },
    {
      "cell_type": "code",
      "execution_count": null,
      "metadata": {
        "id": "ECtS5j5rtLbF"
      },
      "outputs": [],
      "source": [
        "import torch\n",
        "from torchvision.datasets import CIFAR10\n",
        "import torch.nn as nn \n",
        "import torch.nn.functional as F \n",
        "import torchvision.transforms as transforms\n",
        "from torch.utils.data import DataLoader\n",
        "from torchsummary import summary\n",
        "from torchvision.utils import make_grid\n",
        "import numpy as np\n",
        "import matplotlib.pyplot as plt"
      ]
    },
    {
      "cell_type": "code",
      "execution_count": null,
      "metadata": {
        "colab": {
          "base_uri": "https://localhost:8080/",
          "height": 103,
          "referenced_widgets": [
            "39d6600c40964e02a1e93f6306702347",
            "9e9ad261e0ba4f0083279f1ccb49952f",
            "6eb088e8f9d744dead1968c68b1afcb3",
            "6a4eb57ab85046c1b306a1ffc4885652",
            "e0f9a41b3d6845dc8b99fe890ceff110",
            "580e8999f2f94031a80624449bab2c1c",
            "7ebf4b1071bb4bc9961426d9a518f576",
            "11753e1aab4a4cea807452ed9506b7ce",
            "88c3c9befa4a426cb9dced7fd0e26ec6",
            "bfca076452ed4c3a883ffb190bc62da6",
            "917edd95aba34fd6a88f732d74966f46"
          ]
        },
        "id": "irt_dEK7tLbH",
        "outputId": "025679da-54d9-4fb7-ae24-d597781a3c4d"
      },
      "outputs": [
        {
          "name": "stdout",
          "output_type": "stream",
          "text": [
            "Downloading https://www.cs.toronto.edu/~kriz/cifar-10-python.tar.gz to ./data/cifar-10-python.tar.gz\n"
          ]
        },
        {
          "data": {
            "application/vnd.jupyter.widget-view+json": {
              "model_id": "39d6600c40964e02a1e93f6306702347",
              "version_major": 2,
              "version_minor": 0
            },
            "text/plain": [
              "  0%|          | 0/170498071 [00:00<?, ?it/s]"
            ]
          },
          "metadata": {},
          "output_type": "display_data"
        },
        {
          "name": "stdout",
          "output_type": "stream",
          "text": [
            "Extracting ./data/cifar-10-python.tar.gz to ./data\n",
            "Files already downloaded and verified\n"
          ]
        }
      ],
      "source": [
        "tfms=transforms.Compose([transforms.ToTensor()])\n",
        "train_data=CIFAR10(root='./data',train=True,transform=tfms,download=True)\n",
        "test_data=CIFAR10(root='./data',train=False,download=True,transform=tfms)"
      ]
    },
    {
      "cell_type": "code",
      "execution_count": null,
      "metadata": {
        "colab": {
          "base_uri": "https://localhost:8080/"
        },
        "id": "KcrwIwsHtLbI",
        "outputId": "6f3c399d-3ac8-4b7a-c34b-7ecc91d63ee2"
      },
      "outputs": [
        {
          "name": "stdout",
          "output_type": "stream",
          "text": [
            "cpu\n"
          ]
        }
      ],
      "source": [
        "batch_size=32\n",
        "lr=.01\n",
        "karnal_size=3\n",
        "device=torch.device('cuda' if torch.cuda.is_available() else 'cpu')\n",
        "print(device)"
      ]
    },
    {
      "cell_type": "code",
      "execution_count": null,
      "metadata": {
        "id": "rmVVvEwctLbJ"
      },
      "outputs": [],
      "source": [
        "train_loader=DataLoader(train_data,batch_size=batch_size,shuffle=False)\n",
        "test_loader=DataLoader(test_data,batch_size=batch_size,shuffle=False)"
      ]
    },
    {
      "cell_type": "code",
      "execution_count": null,
      "metadata": {
        "colab": {
          "base_uri": "https://localhost:8080/"
        },
        "id": "KMnNa_cItLbJ",
        "outputId": "6fd66575-3cf4-40c8-b510-b38a7b9d00d0"
      },
      "outputs": [
        {
          "data": {
            "text/plain": [
              "torch.Size([32, 3, 32, 32])"
            ]
          },
          "execution_count": 7,
          "metadata": {},
          "output_type": "execute_result"
        }
      ],
      "source": [
        "trainiter=iter(train_loader)\n",
        "images,labels=trainiter.next()\n",
        "images.shape"
      ]
    },
    {
      "cell_type": "code",
      "execution_count": null,
      "metadata": {
        "colab": {
          "base_uri": "https://localhost:8080/",
          "height": 238
        },
        "id": "XCDD5q3stLbJ",
        "outputId": "eaa5f656-4329-46ac-ffaa-79ef38f3dc78"
      },
      "outputs": [
        {
          "data": {
            "text/plain": [
              "<matplotlib.image.AxesImage at 0x7fdafb770520>"
            ]
          },
          "execution_count": 8,
          "metadata": {},
          "output_type": "execute_result"
        },
        {
          "data": {
            "image/png": "[encoded data removed]",
            "text/plain": [
              "<Figure size 432x288 with 1 Axes>"
            ]
          },
          "metadata": {},
          "output_type": "display_data"
        }
      ],
      "source": [
        "plt.imshow((make_grid(images).numpy().transpose((1,2,0))))"
      ]
    },
    {
      "cell_type": "code",
      "execution_count": null,
      "metadata": {
        "id": "bjpiNIcwtLbK"
      },
      "outputs": [],
      "source": [
        "def conv_layer(in_channels,out_channels,kernel_size):\n",
        "\n",
        "    return nn.Sequential(\n",
        "        nn.Conv2d(in_channels=in_channels,out_channels=out_channels,kernel_size=kernel_size),\n",
        "        nn.MaxPool2d(kernel_size=(2,2)),\n",
        "        nn.ReLU()\n",
        "    \n",
        "        )"
      ]
    },
    {
      "cell_type": "code",
      "execution_count": null,
      "metadata": {
        "id": "4IxTqqk9tLbK"
      },
      "outputs": [],
      "source": [
        "class Conv_net(nn.Module):\n",
        "    def __init__(self):\n",
        "        super(Conv_net, self).__init__()\n",
        "        self.layer1=conv_layer(3,16,3)\n",
        "        self.layer2=conv_layer(16,32,3)\n",
        "        self.layer3=conv_layer(32,64,3)\n",
        "        self.flatten=nn.Flatten()\n",
        "        self.fc1=nn.Linear(64*2*2,50)\n",
        "        self.fc2=nn.Linear(50,10)\n",
        "    def forward(self,x):\n",
        "        x=self.layer1(x)\n",
        "        x=self.layer2(x)\n",
        "        x=self.layer3(x)\n",
        "        x=self.flatten(x)\n",
        "        x=self.fc1(x)\n",
        "        x=self.fc2(x)\n",
        "        return x"
      ]
    },
    {
      "cell_type": "code",
      "execution_count": null,
      "metadata": {
        "colab": {
          "base_uri": "https://localhost:8080/"
        },
        "id": "DdE-mroYtLbL",
        "outputId": "f84afc1c-9db6-4f1e-a5ed-72a44c4e2551"
      },
      "outputs": [
        {
          "data": {
            "text/plain": [
              "Conv_net(\n",
              "  (layer1): Sequential(\n",
              "    (0): Conv2d(3, 16, kernel_size=(3, 3), stride=(1, 1))\n",
              "    (1): MaxPool2d(kernel_size=(2, 2), stride=(2, 2), padding=0, dilation=1, ceil_mode=False)\n",
              "    (2): ReLU()\n",
              "  )\n",
              "  (layer2): Sequential(\n",
              "    (0): Conv2d(16, 32, kernel_size=(3, 3), stride=(1, 1))\n",
              "    (1): MaxPool2d(kernel_size=(2, 2), stride=(2, 2), padding=0, dilation=1, ceil_mode=False)\n",
              "    (2): ReLU()\n",
              "  )\n",
              "  (layer3): Sequential(\n",
              "    (0): Conv2d(32, 64, kernel_size=(3, 3), stride=(1, 1))\n",
              "    (1): MaxPool2d(kernel_size=(2, 2), stride=(2, 2), padding=0, dilation=1, ceil_mode=False)\n",
              "    (2): ReLU()\n",
              "  )\n",
              "  (flatten): Flatten(start_dim=1, end_dim=-1)\n",
              "  (fc1): Linear(in_features=256, out_features=50, bias=True)\n",
              "  (fc2): Linear(in_features=50, out_features=10, bias=True)\n",
              ")"
            ]
          },
          "execution_count": 11,
          "metadata": {},
          "output_type": "execute_result"
        }
      ],
      "source": [
        "model=Conv_net()\n",
        "model"
      ]
    },
    {
      "cell_type": "code",
      "execution_count": null,
      "metadata": {
        "colab": {
          "base_uri": "https://localhost:8080/"
        },
        "id": "KucFpMF9tLbL",
        "outputId": "6e6bb7dc-80c9-416d-c39d-f9cd21fac85b"
      },
      "outputs": [
        {
          "name": "stdout",
          "output_type": "stream",
          "text": [
            "----------------------------------------------------------------\n",
            "        Layer (type)               Output Shape         Param #\n",
            "================================================================\n",
            "            Conv2d-1           [-1, 16, 30, 30]             448\n",
            "         MaxPool2d-2           [-1, 16, 15, 15]               0\n",
            "              ReLU-3           [-1, 16, 15, 15]               0\n",
            "            Conv2d-4           [-1, 32, 13, 13]           4,640\n",
            "         MaxPool2d-5             [-1, 32, 6, 6]               0\n",
            "              ReLU-6             [-1, 32, 6, 6]               0\n",
            "            Conv2d-7             [-1, 64, 4, 4]          18,496\n",
            "         MaxPool2d-8             [-1, 64, 2, 2]               0\n",
            "              ReLU-9             [-1, 64, 2, 2]               0\n",
            "          Flatten-10                  [-1, 256]               0\n",
            "           Linear-11                   [-1, 50]          12,850\n",
            "           Linear-12                   [-1, 10]             510\n",
            "================================================================\n",
            "Total params: 36,944\n",
            "Trainable params: 36,944\n",
            "Non-trainable params: 0\n",
            "----------------------------------------------------------------\n",
            "Input size (MB): 0.01\n",
            "Forward/backward pass size (MB): 0.24\n",
            "Params size (MB): 0.14\n",
            "Estimated Total Size (MB): 0.39\n",
            "----------------------------------------------------------------\n"
          ]
        }
      ],
      "source": [
        "summary(model=model,input_size=(3,32,32))"
      ]
    },
    {
      "cell_type": "code",
      "execution_count": null,
      "metadata": {
        "id": "UIyv6UHNtLbM"
      },
      "outputs": [],
      "source": [
        "loss_fn=nn.CrossEntropyLoss()\n",
        "optimizer=torch.optim.Adam(model.parameters(),lr=lr)"
      ]
    },
    {
      "cell_type": "code",
      "execution_count": null,
      "metadata": {
        "id": "1pKT2kQRtLbM"
      },
      "outputs": [],
      "source": [
        "def train(mode,trainloader,loss_fn=None,optimizer=None,seed=32,EPOCHS=100):\n",
        "    torch.manual_seed(seed)\n",
        "    cost=[]\n",
        "    \n",
        "    model.to(device)\n",
        "    for epoch in range(EPOCHS):\n",
        "        train_corr=[]\n",
        "        for idx,(img,lbl) in enumerate(trainloader):\n",
        "            ##1 Compute the Output\n",
        "            img,lbl=img.to(device),lbl.to(device)\n",
        "            yhat=model(img)\n",
        "            \n",
        "            ##2 Compute the Loss\n",
        "            loss=loss_fn(yhat,lbl)\n",
        "\n",
        "            ##3 Compute the gradients\n",
        "            optimizer.zero_grad()\n",
        "            loss.backward()\n",
        "\n",
        "            ##4 update the model parameters\n",
        "            optimizer.step()\n",
        "            with torch.no_grad():\n",
        "                yhat=model(img)\n",
        "                loss=loss_fn(yhat,lbl)\n",
        "                core_lbl=(torch.argmax(F.softmax(yhat,dim=1),dim=1)==lbl).sum().item()\n",
        "                ##print('Model accuracy on this batch %.2f', core_lbl)\n",
        "                train_corr.append(core_lbl)\n",
        "        with torch.no_grad():\n",
        "            acc=sum(train_corr)/len(train_data)*100\n",
        "            \n",
        "            print(f'After {epoch+1} Model Training Accuracy {acc}')\n",
        "\n",
        "\n",
        "   \n"
      ]
    },
    {
      "cell_type": "code",
      "execution_count": null,
      "metadata": {
        "colab": {
          "base_uri": "https://localhost:8080/"
        },
        "id": "hfnjVl1ctLbN",
        "outputId": "7be2068a-bfc4-4eda-ef14-ef2dee51cc26"
      },
      "outputs": [
        {
          "data": {
            "text/plain": [
              "50000"
            ]
          },
          "execution_count": 15,
          "metadata": {},
          "output_type": "execute_result"
        }
      ],
      "source": [
        "len(train_data)"
      ]
    },
    {
      "cell_type": "markdown",
      "metadata": {
        "id": "kR8EyUFHN-EG"
      },
      "source": [
        "**EXPERIMENT 6**\n"
      ]
    },
    {
      "cell_type": "code",
      "execution_count": null,
      "metadata": {
        "id": "SLsWD2y8gfQT"
      },
      "outputs": [],
      "source": [
        "import numpy as np\n",
        "import pandas as pd\n",
        "import matplotlib.pyplot as plt\n",
        "import tensorflow as tf\n",
        "from tensorflow.keras.preprocessing.text import Tokenizer\n",
        "from keras.utils import to_categorical\n",
        "from tensorflow.keras.preprocessing.sequence import pad_sequences"
      ]
    },
    {
      "cell_type": "code",
      "execution_count": null,
      "metadata": {
        "colab": {
          "background_save": true,
          "base_uri": "https://localhost:8080/",
          "height": 39
        },
        "id": "V2OJV5IuhNzH",
        "outputId": "f0416b8d-29ac-4b55-e9e3-931e3d3fd16f"
      },
      "outputs": [
        {
          "data": {
            "text/html": [
              "\n",
              "     <input type=\"file\" id=\"files-77b2d1da-a26b-4cbb-8160-d3d58a76cdc4\" name=\"files[]\" multiple disabled\n",
              "        style=\"border:none\" />\n",
              "     <output id=\"result-77b2d1da-a26b-4cbb-8160-d3d58a76cdc4\">\n",
              "      Upload widget is only available when the cell has been executed in the\n",
              "      current browser session. Please rerun this cell to enable.\n",
              "      </output>\n",
              "      <script>// Copyright 2017 Google LLC\n",
              "//\n",
              "// Licensed under the Apache License, Version 2.0 (the \"License\");\n",
              "// you may not use this file except in compliance with the License.\n",
              "// You may obtain a copy of the License at\n",
              "//\n",
              "//      http://www.apache.org/licenses/LICENSE-2.0\n",
              "//\n",
              "// Unless required by applicable law or agreed to in writing, software\n",
              "// distributed under the License is distributed on an \"AS IS\" BASIS,\n",
              "// WITHOUT WARRANTIES OR CONDITIONS OF ANY KIND, either express or implied.\n",
              "// See the License for the specific language governing permissions and\n",
              "// limitations under the License.\n",
              "\n",
              "/**\n",
              " * @fileoverview Helpers for google.colab Python module.\n",
              " */\n",
              "(function(scope) {\n",
              "function span(text, styleAttributes = {}) {\n",
              "  const element = document.createElement('span');\n",
              "  element.textContent = text;\n",
              "  for (const key of Object.keys(styleAttributes)) {\n",
              "    element.style[key] = styleAttributes[key];\n",
              "  }\n",
              "  return element;\n",
              "}\n",
              "\n",
              "// Max number of bytes which will be uploaded at a time.\n",
              "const MAX_PAYLOAD_SIZE = 100 * 1024;\n",
              "\n",
              "function _uploadFiles(inputId, outputId) {\n",
              "  const steps = uploadFilesStep(inputId, outputId);\n",
              "  const outputElement = document.getElementById(outputId);\n",
              "  // Cache steps on the outputElement to make it available for the next call\n",
              "  // to uploadFilesContinue from Python.\n",
              "  outputElement.steps = steps;\n",
              "\n",
              "  return _uploadFilesContinue(outputId);\n",
              "}\n",
              "\n",
              "// This is roughly an async generator (not supported in the browser yet),\n",
              "// where there are multiple asynchronous steps and the Python side is going\n",
              "// to poll for completion of each step.\n",
              "// This uses a Promise to block the python side on completion of each step,\n",
              "// then passes the result of the previous step as the input to the next step.\n",
              "function _uploadFilesContinue(outputId) {\n",
              "  const outputElement = document.getElementById(outputId);\n",
              "  const steps = outputElement.steps;\n",
              "\n",
              "  const next = steps.next(outputElement.lastPromiseValue);\n",
              "  return Promise.resolve(next.value.promise).then((value) => {\n",
              "    // Cache the last promise value to make it available to the next\n",
              "    // step of the generator.\n",
              "    outputElement.lastPromiseValue = value;\n",
              "    return next.value.response;\n",
              "  });\n",
              "}\n",
              "\n",
              "/**\n",
              " * Generator function which is called between each async step of the upload\n",
              " * process.\n",
              " * @param {string} inputId Element ID of the input file picker element.\n",
              " * @param {string} outputId Element ID of the output display.\n",
              " * @return {!Iterable<!Object>} Iterable of next steps.\n",
              " */\n",
              "function* uploadFilesStep(inputId, outputId) {\n",
              "  const inputElement = document.getElementById(inputId);\n",
              "  inputElement.disabled = false;\n",
              "\n",
              "  const outputElement = document.getElementById(outputId);\n",
              "  outputElement.innerHTML = '';\n",
              "\n",
              "  const pickedPromise = new Promise((resolve) => {\n",
              "    inputElement.addEventListener('change', (e) => {\n",
              "      resolve(e.target.files);\n",
              "    });\n",
              "  });\n",
              "\n",
              "  const cancel = document.createElement('button');\n",
              "  inputElement.parentElement.appendChild(cancel);\n",
              "  cancel.textContent = 'Cancel upload';\n",
              "  const cancelPromise = new Promise((resolve) => {\n",
              "    cancel.onclick = () => {\n",
              "      resolve(null);\n",
              "    };\n",
              "  });\n",
              "\n",
              "  // Wait for the user to pick the files.\n",
              "  const files = yield {\n",
              "    promise: Promise.race([pickedPromise, cancelPromise]),\n",
              "    response: {\n",
              "      action: 'starting',\n",
              "    }\n",
              "  };\n",
              "\n",
              "  cancel.remove();\n",
              "\n",
              "  // Disable the input element since further picks are not allowed.\n",
              "  inputElement.disabled = true;\n",
              "\n",
              "  if (!files) {\n",
              "    return {\n",
              "      response: {\n",
              "        action: 'complete',\n",
              "      }\n",
              "    };\n",
              "  }\n",
              "\n",
              "  for (const file of files) {\n",
              "    const li = document.createElement('li');\n",
              "    li.append(span(file.name, {fontWeight: 'bold'}));\n",
              "    li.append(span(\n",
              "        `(${file.type || 'n/a'}) - ${file.size} bytes, ` +\n",
              "        `last modified: ${\n",
              "            file.lastModifiedDate ? file.lastModifiedDate.toLocaleDateString() :\n",
              "                                    'n/a'} - `));\n",
              "    const percent = span('0% done');\n",
              "    li.appendChild(percent);\n",
              "\n",
              "    outputElement.appendChild(li);\n",
              "\n",
              "    const fileDataPromise = new Promise((resolve) => {\n",
              "      const reader = new FileReader();\n",
              "      reader.onload = (e) => {\n",
              "        resolve(e.target.result);\n",
              "      };\n",
              "      reader.readAsArrayBuffer(file);\n",
              "    });\n",
              "    // Wait for the data to be ready.\n",
              "    let fileData = yield {\n",
              "      promise: fileDataPromise,\n",
              "      response: {\n",
              "        action: 'continue',\n",
              "      }\n",
              "    };\n",
              "\n",
              "    // Use a chunked sending to avoid message size limits. See b/62115660.\n",
              "    let position = 0;\n",
              "    do {\n",
              "      const length = Math.min(fileData.byteLength - position, MAX_PAYLOAD_SIZE);\n",
              "      const chunk = new Uint8Array(fileData, position, length);\n",
              "      position += length;\n",
              "\n",
              "      const base64 = btoa(String.fromCharCode.apply(null, chunk));\n",
              "      yield {\n",
              "        response: {\n",
              "          action: 'append',\n",
              "          file: file.name,\n",
              "          data: base64,\n",
              "        },\n",
              "      };\n",
              "\n",
              "      let percentDone = fileData.byteLength === 0 ?\n",
              "          100 :\n",
              "          Math.round((position / fileData.byteLength) * 100);\n",
              "      percent.textContent = `${percentDone}% done`;\n",
              "\n",
              "    } while (position < fileData.byteLength);\n",
              "  }\n",
              "\n",
              "  // All done.\n",
              "  yield {\n",
              "    response: {\n",
              "      action: 'complete',\n",
              "    }\n",
              "  };\n",
              "}\n",
              "\n",
              "scope.google = scope.google || {};\n",
              "scope.google.colab = scope.google.colab || {};\n",
              "scope.google.colab._files = {\n",
              "  _uploadFiles,\n",
              "  _uploadFilesContinue,\n",
              "};\n",
              "})(self);\n",
              "</script> "
            ],
            "text/plain": [
              "<IPython.core.display.HTML object>"
            ]
          },
          "metadata": {},
          "output_type": "display_data"
        }
      ],
      "source": [
        "from google.colab import files\n",
        "uploaded = files.upload()"
      ]
    },
    {
      "cell_type": "code",
      "execution_count": null,
      "metadata": {
        "id": "7pqdU4z7kxeK"
      },
      "outputs": [],
      "source": [
        "import io\n",
        "df = pd.read_csv(io.BytesIO(uploaded['dataset.csv']))"
      ]
    },
    {
      "cell_type": "code",
      "execution_count": null,
      "metadata": {
        "id": "S9-6dtr8gp2y"
      },
      "outputs": [],
      "source": [
        "\n",
        "\n",
        "train_set = 45000\n",
        "max_len_text = 2000\n",
        "\n",
        "df['sentiment'] = df['sentiment'].replace('positive', 1)\n",
        "df['sentiment'] = df['sentiment'].replace('negative', 0)"
      ]
    },
    {
      "cell_type": "code",
      "execution_count": null,
      "metadata": {
        "id": "RHhYfawsk7cc"
      },
      "outputs": [],
      "source": [
        "tokenizer = Tokenizer(num_words=10000)\n",
        "tokenizer.fit_on_texts(df['review'])\n",
        "vector = tokenizer.texts_to_sequences(df['review'])"
      ]
    },
    {
      "cell_type": "code",
      "execution_count": null,
      "metadata": {
        "id": "j3mRnH5mlDEb"
      },
      "outputs": [],
      "source": [
        "train_data = np.array(vector)[:train_set]\n",
        "train_label = (np.array(df['sentiment'])[:train_set])\n",
        "test_data = np.array(vector)[train_set:]\n",
        "test_label = (np.array(df['sentiment'])[train_set:])\n"
      ]
    },
    {
      "cell_type": "code",
      "execution_count": null,
      "metadata": {
        "id": "XuWhc3gClPhT"
      },
      "outputs": [],
      "source": [
        "padded_train = pad_sequences(train_data, maxlen=max_len_text)\n",
        "padded_test = pad_sequences(test_data, maxlen=max_len_text)"
      ]
    },
    {
      "cell_type": "code",
      "execution_count": null,
      "metadata": {
        "id": "-GRDMCDhlY1q"
      },
      "outputs": [],
      "source": [
        "\n",
        "model = tf.keras.Sequential()\n",
        "model.add(tf.keras.layers.Embedding(13000, 16, input_length=max_len_text))\n",
        "model.add(tf.keras.layers.Bidirectional(tf.keras.layers.LSTM(64, dropout=0.2)))\n",
        "model.add(tf.keras.layers.Dense(1, activation='sigmoid'))\n",
        "model.summary()"
      ]
    },
    {
      "cell_type": "code",
      "execution_count": null,
      "metadata": {
        "id": "Gz0jgCgEleya"
      },
      "outputs": [],
      "source": [
        "model.compile(loss='binary_crossentropy', optimizer='adam', metrics=['accuracy'])\n"
      ]
    },
    {
      "cell_type": "code",
      "execution_count": null,
      "metadata": {
        "id": "iIKtJDSUlinc"
      },
      "outputs": [],
      "source": [
        "history = model.fit(padded_train, train_label, epochs=4, validation_data=(padded_test, test_label))\n"
      ]
    }
  ],
  "metadata": {
    "colab": {
      "provenance": []
    },
    "kernelspec": {
      "display_name": "Python 3",
      "name": "python3"
    },
    "language_info": {
      "name": "python"
    },
    "widgets": {
      "application/vnd.jupyter.widget-state+json": {
        "11753e1aab4a4cea807452ed9506b7ce": {
          "model_module": "@jupyter-widgets/base",
          "model_module_version": "1.2.0",
          "model_name": "LayoutModel",
          "state": {
            "_model_module": "@jupyter-widgets/base",
            "_model_module_version": "1.2.0",
            "_model_name": "LayoutModel",
            "_view_count": null,
            "_view_module": "@jupyter-widgets/base",
            "_view_module_version": "1.2.0",
            "_view_name": "LayoutView",
            "align_content": null,
            "align_items": null,
            "align_self": null,
            "border": null,
            "bottom": null,
            "display": null,
            "flex": null,
            "flex_flow": null,
            "grid_area": null,
            "grid_auto_columns": null,
            "grid_auto_flow": null,
            "grid_auto_rows": null,
            "grid_column": null,
            "grid_gap": null,
            "grid_row": null,
            "grid_template_areas": null,
            "grid_template_columns": null,
            "grid_template_rows": null,
            "height": null,
            "justify_content": null,
            "justify_items": null,
            "left": null,
            "margin": null,
            "max_height": null,
            "max_width": null,
            "min_height": null,
            "min_width": null,
            "object_fit": null,
            "object_position": null,
            "order": null,
            "overflow": null,
            "overflow_x": null,
            "overflow_y": null,
            "padding": null,
            "right": null,
            "top": null,
            "visibility": null,
            "width": null
          }
        },
        "39d6600c40964e02a1e93f6306702347": {
          "model_module": "@jupyter-widgets/controls",
          "model_module_version": "1.5.0",
          "model_name": "HBoxModel",
          "state": {
            "_dom_classes": [],
            "_model_module": "@jupyter-widgets/controls",
            "_model_module_version": "1.5.0",
            "_model_name": "HBoxModel",
            "_view_count": null,
            "_view_module": "@jupyter-widgets/controls",
            "_view_module_version": "1.5.0",
            "_view_name": "HBoxView",
            "box_style": "",
            "children": [
              "IPY_MODEL_9e9ad261e0ba4f0083279f1ccb49952f",
              "IPY_MODEL_6eb088e8f9d744dead1968c68b1afcb3",
              "IPY_MODEL_6a4eb57ab85046c1b306a1ffc4885652"
            ],
            "layout": "IPY_MODEL_e0f9a41b3d6845dc8b99fe890ceff110"
          }
        },
        "580e8999f2f94031a80624449bab2c1c": {
          "model_module": "@jupyter-widgets/base",
          "model_module_version": "1.2.0",
          "model_name": "LayoutModel",
          "state": {
            "_model_module": "@jupyter-widgets/base",
            "_model_module_version": "1.2.0",
            "_model_name": "LayoutModel",
            "_view_count": null,
            "_view_module": "@jupyter-widgets/base",
            "_view_module_version": "1.2.0",
            "_view_name": "LayoutView",
            "align_content": null,
            "align_items": null,
            "align_self": null,
            "border": null,
            "bottom": null,
            "display": null,
            "flex": null,
            "flex_flow": null,
            "grid_area": null,
            "grid_auto_columns": null,
            "grid_auto_flow": null,
            "grid_auto_rows": null,
            "grid_column": null,
            "grid_gap": null,
            "grid_row": null,
            "grid_template_areas": null,
            "grid_template_columns": null,
            "grid_template_rows": null,
            "height": null,
            "justify_content": null,
            "justify_items": null,
            "left": null,
            "margin": null,
            "max_height": null,
            "max_width": null,
            "min_height": null,
            "min_width": null,
            "object_fit": null,
            "object_position": null,
            "order": null,
            "overflow": null,
            "overflow_x": null,
            "overflow_y": null,
            "padding": null,
            "right": null,
            "top": null,
            "visibility": null,
            "width": null
          }
        },
        "6a4eb57ab85046c1b306a1ffc4885652": {
          "model_module": "@jupyter-widgets/controls",
          "model_module_version": "1.5.0",
          "model_name": "HTMLModel",
          "state": {
            "_dom_classes": [],
            "_model_module": "@jupyter-widgets/controls",
            "_model_module_version": "1.5.0",
            "_model_name": "HTMLModel",
            "_view_count": null,
            "_view_module": "@jupyter-widgets/controls",
            "_view_module_version": "1.5.0",
            "_view_name": "HTMLView",
            "description": "",
            "description_tooltip": null,
            "layout": "IPY_MODEL_bfca076452ed4c3a883ffb190bc62da6",
            "placeholder": "​",
            "style": "IPY_MODEL_917edd95aba34fd6a88f732d74966f46",
            "value": " 170498071/170498071 [00:01&lt;00:00, 82868149.35it/s]"
          }
        },
        "6eb088e8f9d744dead1968c68b1afcb3": {
          "model_module": "@jupyter-widgets/controls",
          "model_module_version": "1.5.0",
          "model_name": "FloatProgressModel",
          "state": {
            "_dom_classes": [],
            "_model_module": "@jupyter-widgets/controls",
            "_model_module_version": "1.5.0",
            "_model_name": "FloatProgressModel",
            "_view_count": null,
            "_view_module": "@jupyter-widgets/controls",
            "_view_module_version": "1.5.0",
            "_view_name": "ProgressView",
            "bar_style": "success",
            "description": "",
            "description_tooltip": null,
            "layout": "IPY_MODEL_11753e1aab4a4cea807452ed9506b7ce",
            "max": 170498071,
            "min": 0,
            "orientation": "horizontal",
            "style": "IPY_MODEL_88c3c9befa4a426cb9dced7fd0e26ec6",
            "value": 170498071
          }
        },
        "7ebf4b1071bb4bc9961426d9a518f576": {
          "model_module": "@jupyter-widgets/controls",
          "model_module_version": "1.5.0",
          "model_name": "DescriptionStyleModel",
          "state": {
            "_model_module": "@jupyter-widgets/controls",
            "_model_module_version": "1.5.0",
            "_model_name": "DescriptionStyleModel",
            "_view_count": null,
            "_view_module": "@jupyter-widgets/base",
            "_view_module_version": "1.2.0",
            "_view_name": "StyleView",
            "description_width": ""
          }
        },
        "88c3c9befa4a426cb9dced7fd0e26ec6": {
          "model_module": "@jupyter-widgets/controls",
          "model_module_version": "1.5.0",
          "model_name": "ProgressStyleModel",
          "state": {
            "_model_module": "@jupyter-widgets/controls",
            "_model_module_version": "1.5.0",
            "_model_name": "ProgressStyleModel",
            "_view_count": null,
            "_view_module": "@jupyter-widgets/base",
            "_view_module_version": "1.2.0",
            "_view_name": "StyleView",
            "bar_color": null,
            "description_width": ""
          }
        },
        "917edd95aba34fd6a88f732d74966f46": {
          "model_module": "@jupyter-widgets/controls",
          "model_module_version": "1.5.0",
          "model_name": "DescriptionStyleModel",
          "state": {
            "_model_module": "@jupyter-widgets/controls",
            "_model_module_version": "1.5.0",
            "_model_name": "DescriptionStyleModel",
            "_view_count": null,
            "_view_module": "@jupyter-widgets/base",
            "_view_module_version": "1.2.0",
            "_view_name": "StyleView",
            "description_width": ""
          }
        },
        "9e9ad261e0ba4f0083279f1ccb49952f": {
          "model_module": "@jupyter-widgets/controls",
          "model_module_version": "1.5.0",
          "model_name": "HTMLModel",
          "state": {
            "_dom_classes": [],
            "_model_module": "@jupyter-widgets/controls",
            "_model_module_version": "1.5.0",
            "_model_name": "HTMLModel",
            "_view_count": null,
            "_view_module": "@jupyter-widgets/controls",
            "_view_module_version": "1.5.0",
            "_view_name": "HTMLView",
            "description": "",
            "description_tooltip": null,
            "layout": "IPY_MODEL_580e8999f2f94031a80624449bab2c1c",
            "placeholder": "​",
            "style": "IPY_MODEL_7ebf4b1071bb4bc9961426d9a518f576",
            "value": "100%"
          }
        },
        "bfca076452ed4c3a883ffb190bc62da6": {
          "model_module": "@jupyter-widgets/base",
          "model_module_version": "1.2.0",
          "model_name": "LayoutModel",
          "state": {
            "_model_module": "@jupyter-widgets/base",
            "_model_module_version": "1.2.0",
            "_model_name": "LayoutModel",
            "_view_count": null,
            "_view_module": "@jupyter-widgets/base",
            "_view_module_version": "1.2.0",
            "_view_name": "LayoutView",
            "align_content": null,
            "align_items": null,
            "align_self": null,
            "border": null,
            "bottom": null,
            "display": null,
            "flex": null,
            "flex_flow": null,
            "grid_area": null,
            "grid_auto_columns": null,
            "grid_auto_flow": null,
            "grid_auto_rows": null,
            "grid_column": null,
            "grid_gap": null,
            "grid_row": null,
            "grid_template_areas": null,
            "grid_template_columns": null,
            "grid_template_rows": null,
            "height": null,
            "justify_content": null,
            "justify_items": null,
            "left": null,
            "margin": null,
            "max_height": null,
            "max_width": null,
            "min_height": null,
            "min_width": null,
            "object_fit": null,
            "object_position": null,
            "order": null,
            "overflow": null,
            "overflow_x": null,
            "overflow_y": null,
            "padding": null,
            "right": null,
            "top": null,
            "visibility": null,
            "width": null
          }
        },
        "e0f9a41b3d6845dc8b99fe890ceff110": {
          "model_module": "@jupyter-widgets/base",
          "model_module_version": "1.2.0",
          "model_name": "LayoutModel",
          "state": {
            "_model_module": "@jupyter-widgets/base",
            "_model_module_version": "1.2.0",
            "_model_name": "LayoutModel",
            "_view_count": null,
            "_view_module": "@jupyter-widgets/base",
            "_view_module_version": "1.2.0",
            "_view_name": "LayoutView",
            "align_content": null,
            "align_items": null,
            "align_self": null,
            "border": null,
            "bottom": null,
            "display": null,
            "flex": null,
            "flex_flow": null,
            "grid_area": null,
            "grid_auto_columns": null,
            "grid_auto_flow": null,
            "grid_auto_rows": null,
            "grid_column": null,
            "grid_gap": null,
            "grid_row": null,
            "grid_template_areas": null,
            "grid_template_columns": null,
            "grid_template_rows": null,
            "height": null,
            "justify_content": null,
            "justify_items": null,
            "left": null,
            "margin": null,
            "max_height": null,
            "max_width": null,
            "min_height": null,
            "min_width": null,
            "object_fit": null,
            "object_position": null,
            "order": null,
            "overflow": null,
            "overflow_x": null,
            "overflow_y": null,
            "padding": null,
            "right": null,
            "top": null,
            "visibility": null,
            "width": null
          }
        }
      }
    }
  },
  "nbformat": 4,
  "nbformat_minor": 0
}